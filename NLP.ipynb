{
 "cells": [
  {
   "attachments": {},
   "cell_type": "markdown",
   "metadata": {},
   "source": [
    "## Get the data\n",
    "csv headings: id, created_at, source, original_text, clean_text, favorite_count, retweet_count, hashtags, trend <br>\n",
    "hashtags format: strings with comma separated hashtags"
   ]
  },
  {
   "cell_type": "code",
   "execution_count": null,
   "metadata": {},
   "outputs": [],
   "source": [
    "import csv\n",
    "\n",
    "tweets = []\n",
    "hashtags = [] #list of lists of hashtags e.g. hashtags[0] = [\"hashtag1\", \"hashtag2\"]\n",
    "hashtags_strings = [] #list of hashtags string e.g. hashtags[0] = [\"hashtag1, hashtag2\"]\n",
    "\n",
    "with open('./Data/tweets1.csv') as data_file:\n",
    "    data = csv.reader(data_file)\n",
    "    next(data) #To skip the headings\n",
    "    for row in data:\n",
    "        tweets.append(row[4])\n",
    "        hashtags.append(row[7].split(\", \"))\n",
    "        hashtags_strings.append(row[7])"
   ]
  },
  {
   "attachments": {},
   "cell_type": "markdown",
   "metadata": {},
   "source": [
    "## Initialize the tokenizers\n",
    "Will use a specialized tokenizer for the hashtags because we need to encode all the hashtags. It also does not matter if the encoding of the tweets match the encoding of the hashtags."
   ]
  },
  {
   "cell_type": "code",
   "execution_count": null,
   "metadata": {},
   "outputs": [],
   "source": [
    "from keras.preprocessing.text import Tokenizer\n",
    "\n",
    "tweets_tokenizer = Tokenizer(oov_token=\"<OOV>\")\n",
    "tweets_tokenizer.fit_on_texts(tweets)\n",
    "tweets_word_index = tweets_tokenizer.word_index\n",
    "tweets_index_word = tweets_tokenizer.index_word"
   ]
  },
  {
   "cell_type": "code",
   "execution_count": null,
   "metadata": {},
   "outputs": [],
   "source": [
    "hashtags_tokenizer = Tokenizer(oov_token=\"<OOV>\")\n",
    "hashtags_tokenizer.fit_on_texts(hashtags_strings)\n",
    "hashtags_word_index = hashtags_tokenizer.word_index\n",
    "hashtags_index_word = hashtags_tokenizer.index_word"
   ]
  },
  {
   "attachments": {},
   "cell_type": "markdown",
   "metadata": {},
   "source": [
    "## Create the sequences and pad them and one hot encode the hashtags\n",
    "Will use a binary vector to encode the hashtags to the model can categorize the tweets. e.g. hashtags[0] = [tag1, tag2], and tag1 has encoding of 1 and tag2 has encoding 2, then the binary vector wil be [0 1 1 0 0 ... no_of_different_hashtags]"
   ]
  },
  {
   "cell_type": "code",
   "execution_count": null,
   "metadata": {},
   "outputs": [],
   "source": [
    "sequence_length = 20\n",
    "\n",
    "from keras.utils import pad_sequences\n",
    "tweets_sequences = tweets_tokenizer.texts_to_sequences(tweets)\n",
    "hashtags_sequences = hashtags_tokenizer.texts_to_sequences(hashtags)\n",
    "tweets_sequences_padded = pad_sequences(tweets_sequences, padding=\"post\", maxlen=sequence_length)"
   ]
  },
  {
   "cell_type": "code",
   "execution_count": null,
   "metadata": {},
   "outputs": [],
   "source": [
    "from keras.utils import to_categorical\n",
    "import tensorflow as tf\n",
    "import numpy as np\n",
    "\n",
    "no_of_different_hashtags = len(hashtags_word_index) + 1\n",
    "no_of_hashtags = len(hashtags_sequences)\n",
    "\n",
    "encoded_hashtags = np.zeros((no_of_hashtags, no_of_different_hashtags))\n",
    "\n",
    "for i, hashtags_indices in enumerate(hashtags_sequences):\n",
    "    encoded_hashtags[i][hashtags_indices] = 1\n",
    "\n",
    "\n",
    "encoded_hashtags = np.array(encoded_hashtags)\n"
   ]
  },
  {
   "cell_type": "markdown",
   "metadata": {},
   "source": [
    "## Build the model"
   ]
  },
  {
   "cell_type": "code",
   "execution_count": null,
   "metadata": {},
   "outputs": [],
   "source": [
    "#hyperparameters\n",
    "embedding_dimensions = 128\n",
    "lstm_units = 100\n",
    "dropout_value = 0.2"
   ]
  },
  {
   "cell_type": "code",
   "execution_count": null,
   "metadata": {},
   "outputs": [],
   "source": [
    "no_of_tweets_words = len(tweets_word_index) + 1\n",
    "\n",
    "hashtag_recommender_model = tf.keras.Sequential([\n",
    "    tf.keras.layers.Embedding(no_of_tweets_words, embedding_dimensions, input_length=sequence_length),\n",
    "    tf.keras.layers.Dropout(dropout_value),\n",
    "    # tf.keras.layers.Bidirectional(tf.keras.layers.LSTM(100, return_sequences=True)),\n",
    "    tf.keras.layers.Bidirectional(tf.keras.layers.LSTM(lstm_units)),\n",
    "    tf.keras.layers.Dropout(dropout_value),\n",
    "    tf.keras.layers.Dense(no_of_different_hashtags, activation='softmax')\n",
    "])\n",
    "\n",
    "hashtag_recommender_model.compile(\n",
    "    loss='categorical_crossentropy',\n",
    "    optimizer='adam',\n",
    "    metrics = ['accuracy']\n",
    ")\n",
    "\n",
    "hashtag_recommender_model.summary()"
   ]
  },
  {
   "attachments": {},
   "cell_type": "markdown",
   "metadata": {},
   "source": [
    "## Train the model"
   ]
  },
  {
   "cell_type": "code",
   "execution_count": null,
   "metadata": {},
   "outputs": [],
   "source": [
    "epochs = 20\n",
    "hashtag_recommender_model.fit(tweets_sequences_padded, encoded_hashtags, epochs=epochs)"
   ]
  },
  {
   "attachments": {},
   "cell_type": "markdown",
   "metadata": {},
   "source": [
    "## Get hashtags!!"
   ]
  },
  {
   "cell_type": "code",
   "execution_count": null,
   "metadata": {},
   "outputs": [],
   "source": [
    "def predict(tweet, tweet_tokenizer, hashtag_tokenizer, pad_length, model):\n",
    "    tweet_sequence = tweet_tokenizer.texts_to_sequences([tweet])[0]\n",
    "    padded_tweet_sequence = pad_sequences([tweet_sequence], maxlen=pad_length, padding='post')\n",
    "    prediction = (model.predict(padded_tweet_sequence))\n",
    "    hashtag_index = np.argmax(prediction, axis=-1)[0]\n",
    "    return hashtag_tokenizer.index_word[hashtag_index]\n"
   ]
  },
  {
   "cell_type": "code",
   "execution_count": null,
   "metadata": {},
   "outputs": [],
   "source": [
    "print(predict(\"happy earth day\", tweets_tokenizer, hashtags_tokenizer, 20, hashtag_recommender_model))"
   ]
  },
  {
   "cell_type": "code",
   "execution_count": null,
   "metadata": {},
   "outputs": [],
   "source": []
  }
 ],
 "metadata": {
  "kernelspec": {
   "display_name": "base",
   "language": "python",
   "name": "python3"
  },
  "language_info": {
   "codemirror_mode": {
    "name": "ipython",
    "version": 3
   },
   "file_extension": ".py",
   "mimetype": "text/x-python",
   "name": "python",
   "nbconvert_exporter": "python",
   "pygments_lexer": "ipython3",
   "version": "3.10.9"
  },
  "orig_nbformat": 4
 },
 "nbformat": 4,
 "nbformat_minor": 2
}
