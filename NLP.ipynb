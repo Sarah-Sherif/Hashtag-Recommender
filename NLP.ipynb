{
 "cells": [
  {
   "attachments": {},
   "cell_type": "markdown",
   "metadata": {},
   "source": [
    "## Get the data\n",
    "csv headings: id, created_at, source, original_text, clean_text, favorite_count, retweet_count, hashtags, trend <br>\n",
    "hashtags format: strings with comma separated hashtags"
   ]
  },
  {
   "cell_type": "code",
   "execution_count": 79,
   "metadata": {},
   "outputs": [],
   "source": [
    "#File paths\n",
    "US_tweets_file = './Data/USTweets.csv'\n",
    "UK_tweets_file = './Data/UKTweets.csv'\n",
    "glove_path = './glove.840B.300d/glove.840B.300d.txt'"
   ]
  },
  {
   "cell_type": "code",
   "execution_count": 80,
   "metadata": {},
   "outputs": [
    {
     "name": "stderr",
     "output_type": "stream",
     "text": [
      "C:\\Users\\user\\AppData\\Local\\Temp\\ipykernel_1940\\876895944.py:7: DeprecationWarning: string or file could not be read to its end due to unmatched data; this will raise a ValueError in the future.\n",
      "  coefs = np.fromstring(coefs, \"f\", sep=\" \")\n"
     ]
    },
    {
     "name": "stdout",
     "output_type": "stream",
     "text": [
      "Found 2195884 word vectors.\n"
     ]
    }
   ],
   "source": [
    "import numpy as np\n",
    "\n",
    "embeddings_index = {}\n",
    "with open(glove_path) as f:\n",
    "    for line in f:\n",
    "        word, coefs = line.split(maxsplit=1)\n",
    "        coefs = np.fromstring(coefs, \"f\", sep=\" \")\n",
    "        embeddings_index[word] = coefs\n",
    "\n",
    "print(\"Found %s word vectors.\" % len(embeddings_index))"
   ]
  },
  {
   "cell_type": "code",
   "execution_count": 112,
   "metadata": {},
   "outputs": [],
   "source": [
    "import csv\n",
    "\n",
    "tweets = []\n",
    "hashtags = [] #list of lists of hashtags e.g. hashtags[0] = [\"hashtag1\", \"hashtag2\"]\n",
    "hashtags_strings = [] #list of hashtags string e.g. hashtags[0] = [\"hashtag1, hashtag2\"]\n"
   ]
  },
  {
   "cell_type": "code",
   "execution_count": 113,
   "metadata": {},
   "outputs": [],
   "source": [
    "with open(UK_tweets_file) as data_file:\n",
    "    data = csv.reader(data_file)\n",
    "    next(data) #To skip the headings\n",
    "    for row in data:\n",
    "        tweets.append(row[4])\n",
    "        hashtags.append(row[7].split(\", \"))\n",
    "        hashtags_strings.append(row[7])"
   ]
  },
  {
   "cell_type": "code",
   "execution_count": 114,
   "metadata": {},
   "outputs": [],
   "source": [
    "with open(US_tweets_file) as data_file:\n",
    "    data = csv.reader(data_file)\n",
    "    next(data) #To skip the headings\n",
    "    for row in data:\n",
    "        tweets.append(row[4])\n",
    "        hashtags.append(row[7].split(\", \"))\n",
    "        hashtags_strings.append(row[7])"
   ]
  },
  {
   "attachments": {},
   "cell_type": "markdown",
   "metadata": {},
   "source": [
    "## Initialize the tokenizers\n",
    "Will use a specialized tokenizer for the hashtags because we need to encode all the hashtags. It also does not matter if the encoding of the tweets match the encoding of the hashtags."
   ]
  },
  {
   "cell_type": "code",
   "execution_count": 115,
   "metadata": {},
   "outputs": [],
   "source": [
    "from keras.preprocessing.text import Tokenizer\n",
    "\n",
    "tweets_tokenizer = Tokenizer(oov_token=\"<OOV>\")\n",
    "tweets_tokenizer.fit_on_texts(tweets)\n",
    "tweets_word_index = tweets_tokenizer.word_index\n",
    "tweets_index_word = tweets_tokenizer.index_word"
   ]
  },
  {
   "cell_type": "code",
   "execution_count": 116,
   "metadata": {},
   "outputs": [],
   "source": [
    "hashtags_tokenizer = Tokenizer(oov_token=\"<OOV>\")\n",
    "hashtags_tokenizer.fit_on_texts(hashtags_strings)\n",
    "hashtags_word_index = hashtags_tokenizer.word_index\n",
    "hashtags_index_word = hashtags_tokenizer.index_word"
   ]
  },
  {
   "cell_type": "code",
   "execution_count": 117,
   "metadata": {},
   "outputs": [
    {
     "name": "stdout",
     "output_type": "stream",
     "text": [
      "There are 4045 tweets, \n",
      "the tweets contain 7706 different words.\n",
      "There are 1949 different hashtags\n",
      "Here are the tokenized hashtags\n",
      "{'<OOV>': 1, 'nufc': 2, 'facup': 3, 'bhamun': 4, 'newtot': 5, 'mufc': 6, 'sundayvibes': 7, 'emergencyalert': 8, 'sundayfunday': 9, 'sundaymorning': 10, 'thfc': 11, 'spurs': 12, 'sunday': 13, 'newcastle': 14, 'tottenham': 15, 'weekendvibes': 16, 'barcaatleti': 17, 'coys': 18, 'barçaatleti': 19, 'levyout': 20, 'kkrvcsk': 21, 'premierleague': 22, 'freenbeckyfanboommnl': 23, 'stgeorgesday': 24, 'emiratesfacup': 25, 'godnightsunday': 26, 'sudan': 27, 'bhafc': 28, 'facupsemifinal': 29, 'godmorningsunday': 30, 'manutd': 31, 'timelessconcert': 32, 'newcastleunited': 33, 'aberdeen': 34, 'fpl': 35, 'emergencyalerts': 36, 'davisgarcia': 37, 'bbcfootball': 38, 'rangersfc': 39, 'srchafreen': 40, 'england': 41, 'rahane': 42, 'enicout': 43, 'milanlecce': 44, 'sempremilan': 45, 'brighton': 46, 'munbha': 47, 'catsoftwitter': 48, 'cats': 49, 'hwtl': 50, 'nufcfans': 51, 'epl': 52, 'buendomingo': 53, 'cskvskkr': 54, 'rune': 55, 'earthday': 56, 'pl': 57, 'manchesterunited': 58, 'zendaya': 59, 'bitcoin': 60, 'brimun': 61, 'coachella': 62, 'levy': 63, 'sundaymotivation': 64, 'sundaybrunch': 65, 'ucl': 66, 'toon': 67, 'quote': 68, 'sundayservice': 69, 'afcb': 70, 'iphone': 71, 'smarty': 72, 'writingcommunity': 73, 'oapadex': 74, 'bmwopenbyamex': 75, 'writerslift': 76, 'tottenhamhotspur': 77, 'kane': 78, 'whufc': 79, 'tphonline': 80, 'books': 81, 'cdl2023': 82, 'bcnopenbs': 83, 'ukraine': 84, 'toonarmy': 85, 'rangers': 86, 'rfc': 87, 'aberan': 88, 'amazon': 89, 'music': 90, 'breaking': 91, 'conte': 92, 'dogsoftwitter': 93, 'sundaythoughts': 94, 'love': 95, 'stgeorgesday2023': 96, 'laliga': 97, 'whistlepodu': 98, 'starwars': 99, 'rcbvrr': 100, 'tiger3': 101, '鬼滅の刃': 102, 'spursy': 103, 'bhamnu': 104, 'skysports': 105, 'nature': 106, 'harrykane': 107, 'stellini': 108, 'football': 109, 'temu': 110, 'bbb': 111, 'willock': 112, '8rentalcompany': 113, 'about8rental': 114, 'weightlosstips': 115, 'weightlossjourney': 116, 'usa': 117, 'blessed': 118, 'cat': 119, 'bb': 120, 'brickbybrick': 121, 'ゼルダの伝説': 122, 'tearsofthekingdom': 123, 'nifty': 124, 'nifty50': 125, 'sensex': 126, 'stockmarket': 127, 'rcbvsrr': 128, 'nupursharma': 129, 'rcbgogreen': 130, 'katrinakaif': 131, 'happyjenoday': 132, 'book': 133, 'ps5': 134, 'modernwarfare2': 135, 'howaythelads': 136, 'bouwhu': 137, 'ggmu': 138, 'lloris': 139, 'russia': 140, 'onthisday': 141, 'glazersout': 142, 'motd': 143, 'ukgiftam': 144, 'earthday2023': 145, 'catboxsunday': 146, 'bluesky': 147, 'amillionreasonswhytonotreelecttrump': 148, 'londonmarathon': 149, 'joy': 150, 'fcblive': 151, 'quordle': 152, 'totk': 153, 'comedy': 154, 'amritpal': 155, 'singh': 156, 'ジャニーズwestの虹会': 157, 'twitch': 158, 'csk': 159, 'leafsforever': 160, 'gerson': 161, 'uk': 162, 'lnerupdate': 163, 'kingscross': 164, 'lfc': 165, 'influencers': 166, 'nowplaying': 167, 'family': 168, 'ai': 169, 'alert': 170, 'lcfc': 171, '裸聊': 172, 'art': 173, 'lewandowski': 174, 'fcbatm': 175, 'joytrain': 176, 'hyaxxsells': 177, 'eritrea': 178, 'botic': 179, 'thephantommenace': 180, 'zelda': 181, 'abujatwittercommunity': 182, 'uaapvolleyball': 183, 'mancity': 184, 'racism': 185, 'leiwol': 186, 'coyi': 187, 'united': 188, 'ttid': 189, 'supersunday': 190, 'bbc': 191, 'chelsea': 192, 'gw32': 193, 'standfree': 194, 'aberdeenfc': 195, 'coybig': 196, 'coyr': 197, 'phonecases': 198, 'findyourthing': 199, 'moms': 200, 'photography': 201, 'promotion': 202, 'stgeorge': 203, 'perisic': 204, 'adoptdontshop': 205, 'inspiration': 206, 'change': 207, 'kittytwitter': 208, 'shamelessselfpromosunday': 209, 'happysunday': 210, 'lovesongs': 211, 'mentalhealth': 212, 'relax': 213, 'ukgifthour': 214, '80s': 215, 'brothers': 216, 'twins': 217, 'council': 218, 'councilband': 219, 'musicians': 220, 'musician': 221, 'studio': 222, 'quotes': 223, 'quotestoliveby': 224, 'griezmann': 225, 'pug': 226, 'pugs': 227, 'puglife': 228, 'tripawd': 229, 'catsarefamily': 230, 'floof': 231, 'caturday': 232, 'ferran': 233, 'laligasantander': 234, 'ฟรีนเบค': 235, 'yellove': 236, 'kkr': 237, 'cskvkkr': 238, 'bradlees': 239, 'bbby': 240, 'tennis': 241, 'darthmaul': 242, 'alarm': 243, 'health': 244, 'dhoni': 245, 'ebay': 246, 'rwbyv9spoilers': 247, 'marinho': 248, 'motd2': 249, 'magpies': 250, 'fa': 251, 'nufcwomen': 252, 'eidmubarak': 253, 'longisland': 254, 'thegatekeeperstvfanzone': 255, 'usiachwenyuma': 256, 'haiku': 257, 'podcast': 258, 'efl': 259, 'bluecheckmark': 260, 'abnran': 261, 'spfl': 262, 'dianeabbott': 263, 'abdn': 264, 'ran': 265, 'artwork': 266, 'etsy': 267, 'horror': 268, 'vodafone': 269, 'world': 270, 'april23': 271, 'shattawale': 272, 'myplmorning': 273, 'rose': 274, 'bendavies': 275, 'watp': 276, '陪玩': 277, 'nft': 278, 'twitter': 279, 'newcastleutd': 280, 'orv': 281, 'duck': 282, 'ducks': 283, 'good': 284, 'brentford': 285, 'earworm': 286, 'jenchella2023': 287, 'kindleunlimited': 288, 'review': 289, 'underagreeksun': 290, 'nba': 291, 'blessedandgrateful': 292, 'beblessed': 293, 'throwback': 294, 'foodie': 295, 'sundaymood': 296, 'jasminbhasin': 297, 'booklover': 298, 'wip': 299, 'blog': 300, 'links': 301, 'coffee': 302, 'goodvibes': 303, '80smusic': 304, 'wellness': 305, 'dog': 306, 'trivia': 307, 'selfcaresunday': 308, 'poetrycommunity': 309, 'design': 310, 'lifelessons': 311, 'peace': 312, 'spring': 313, 'unleashed4takeover': 314, 'isak': 315, 'messi': 316, 'bankruptcy': 317, 'mystery': 318, 'church': 319, 'mindfulness': 320, 'aúpaatleti': 321, '손오공': 322, '오늘세븐틴6시': 323, '공식컴백': 324, 'woozi': 325, '900daysoftigraygenocide': 326, '백현': 327, 'baekhyun': 328, 'exo': 329, 'biblebuild': 330, 'mypillow': 331, 'edengardens': 332, 'ipl2o23': 333, 'ipl2023': 334, 'raphinha': 335, 'greenwall': 336, 'fcbarcelona': 337, 'forçabarça': 338, 'poshmark': 339, 'whymencantbeleftalone': 340, 'tsitsipas': 341, 'atpbarcelona': 342, 'barcelonaopen': 343, 'stardom': 344, 'busquets': 345, 'donotcomply': 346, 'cartoon': 347, 'bible': 348, 'trump': 349, 'msdhoni': 350, 'artistontwitter': 351, 'blackpinkxcoachella': 352, 'russiaislosing': 353, 'shutdownthetbs': 354, 'ipad': 355, 'kashmir': 356, 'عيد': 357, 'الفطر': 358, 'المبارك': 359, 'viratkohli': 360, 'ساس': 361, 'swfc': 362, 'newcastlespurs': 363, 'nufcspurs': 364, 'championleague': 365, 'truefaith': 366, 'newtott': 367, 'nufcvsthfc': 368, 'youtube': 369, 'willockinho': 370, 'magicalpass': 371, 'sorare': 372, 'xklsv': 373, 'learning': 374, 'study': 375, 'afc': 376, 'breavl': 377, 'telegraphfootball': 378, 'alexanderisak': 379, 'toonarmyamalaysia': 380, 'stjamespark': 381, 'worflags': 382, 'sospursy': 383, 'arsenal': 384, 'sttotteringhamsday': 385, 'prayforwizkid': 386, 'cfc': 387, 'halland': 388, 'stopairportexpansion': 389, 'pressurestress': 390, 'manunited': 391, 'sofascore': 392, 'abe': 393, 'aberfc': 394, 'thedons': 395, 'rcfcabe': 396, 'sakala': 397, 'sahityaakademi': 398, 'iphonecase': 399, 'apple': 400, 'iphone14': 401, 'ikasells': 402, 'qpr': 403, 'twice': 404, 'boxing': 405, 'cashback': 406, 'mitoma': 407, 'london': 408, 'stgeorgeandthedragon': 409, 'sikhpatriots': 410, 'sikhheritagemonth': 411, 'itfc': 412, 'osun': 413, 'getyourgurnon': 414, 'myelopathy': 415, 'rangersfamily': 416, 'afcbournemouth': 417, 'cherries': 418, 'shopsmart': 419, 'fh32': 420, 'weirdnj': 421, 'fplcommunity': 422, '灰产': 423, '磕炮': 424, '娇喘': 425, '叫床': 426, 'stelliniout': 427, 'forster': 428, 'hugolloris': 429, 'muwomen': 430, 'community': 431, 'bhamnj': 432, 'newprofilepic': 433, 'cans': 434, 'produck': 435, 'illsutration': 436, 'illust': 437, 'blender': 438, 'c4d': 439, 'cinema4d': 440, '3d': 441, 'cg': 442, 'seizonszn': 443, 'ourchangingplanet': 444, 'countryfile': 445, 'colinfromaccounts': 446, 'skysport': 447, 'bigshots': 448, 'vabeachspringlive': 449, 'ugandamusc': 450, 'jinx': 451, 'brøndby': 452, 'halftime': 453, 'subbed': 454, 'mcfc': 455, 'diedsuddenly': 456, 'genocide': 457, 'pfizer': 458, 'vaccines': 459, 'covidisnotover': 460, 'psyop': 461, 'moderna': 462, 'kittycat': 463, 'australia': 464, 'dogsontwitter': 465, 'angel': 466, 'aiart': 467, 'sundaylove': 468, 'goodmorningtwitter': 469, 'सुप्रभात': 470, 'sundaymorninglive': 471, 'rt': 472, 'nasa': 473, 'naturebeauty': 474, 'whitneyhouston': 475, 'rnb': 476, 'theplatters': 477, '50smusic': 478, '50s': 479, 'staysafestayhealthy': 480, 'shirt': 481, 'onsale': 482, 'gift': 483, 'thecarpenters': 484, 'karencarpenter': 485, 'thinkbigsundaywithmarsha': 486, 'gamblingtwitter': 487, 'garciadavis': 488, 'peaceandlove': 489, 'life': 490, 'zydeco': 491, 'dance': 492, 'gop': 493, 'sundays': 494, 'actress': 495, 'beautiful': 496, 'selfcare': 497, 'chill': 498, 'staysafe': 499, 'fun': 500, 'memes': 501, 'shopindie': 502, 'enjoy': 503, 'ereadernewstoday': 504, 'freebooks': 505, 'discountbooks': 506, 'abba': 507, 'thewinnertakesitall': 508, 'bucciovertimechallenge': 509, 'rain': 510, 'killatraits': 511, 'killagear': 512, 'morningtvquestion': 513, 'tvshows': 514, 'tvtime': 515, 'lofi': 516, 'dreary': 517, 'outdoors': 518, 'govegan': 519, 'salad': 520, 'photo': 521, 'picoftheday': 522, 'kris10vegan': 523, 'vegan': 524, 'veganfood': 525, 'weekendrelaxation': 526, 'igcats': 527, 'instacats': 528, 'catsofinstagram': 529, 'readingcommunity': 530, 'indieapril': 531, 'rtitbot': 532, 'writerslife': 533, 'writersoftwitter': 534, 'sunsetxvibes': 535, 'outvlander': 536, 'outlander': 537, 'allanchristie': 538, 'alexvlahos': 539, 'christiecongregation': 540, 'alexandervlahos': 541, 'vlavla': 542, 'vlamour': 543, 'interiordesign': 544, 'notetoself': 545, 'worldbookday': 546, 'sun': 547, 'government': 548, 'laurabedoya': 549, 'fitnessgirl': 550, 'abs': 551, 'fitnessmodel': 552, 'gymgirl': 553, 'forcabarca': 554, 'barcelona': 555, 'websites': 556, 'play': 557, 'web3': 558, 'rondesantis': 559, 'desantis2024': 560, 'sundayroast': 561, 'sundaylunch': 562, 'sundayvibe': 563, 'relaxedlook': 564, 'playoffs': 565, 'oilers': 566, 'letsgooilers': 567, 'la': 568, 'nhl': 569, 'euchre': 570, 'best': 571, 'joomla': 572, 'website': 573, 'sundayread': 574, 'spotifypodcasts': 575, 'ordinals': 576, 'history': 577, 'crypto': 578, 'beach': 579, 'reading': 580, 'theopenroad': 581, 'borntobewild': 582, 'borntoride': 583, 'motorcycle': 584, 'motorcycles': 585, 'theairinourface': 586, 'instagram': 587, 'supernatural': 588, 'bloodymary': 589, 'getrowdy': 590, 'rip': 591, 'coffeetime': 592, 'authors': 593, 'buddychecksmatter': 594, 'buddychecks': 595, 'veterans': 596, 'buddycheckers': 597, 'iam': 598, 'iqrtg': 599, 'goodmorning': 600, 'mhhsbd': 601, 'blocktheblue': 602, 'hollyweird': 603, 'candle': 604, 'buddha': 605, 'gitright': 606, 'godssoldiers': 607, 'goditrust': 608, 'psalm23': 609, 'losangeles': 610, 'beverlyhills': 611, 'atleticomadrid': 612, 'findmylife': 613, 'svtback': 614, 'worldnews': 615, 'safety': 616, 'ethiopia': 617, 'southsudan': 618, 'btc': 619, 'onlybiblebuild': 620, 'ไบเบิ้ลบิว': 621, 'buildjakapan': 622, 'biblewichapas': 623, 'beckysangels': 624, 'jersey': 625, 'kkrvscsk': 626, 'barcaatletico': 627, 'leemajors': 628, 'realtalkwavegodd': 629, 'botd': 630, 'new': 631, 'gba': 632, 'thecwsports': 633, 'pittjamfest': 634, 'bassmaster': 635, 'germany': 636, 'hiddensecretsingita': 637, 'alcaraz': 638, 'quordle454': 639, 'theclonewars': 640, 'disney': 641, 'sithlord': 642, 'sluttysluttyman': 643, 'holgerrune': 644, 'stuttgart': 645, 'matic': 646, 'atpmunich': 647, 'vandezandschulp': 648, 'altcoins': 649, 'nintendoswitch': 650, '정한': 651, 'jeonghan': 652, 'haegeum': 653, 'agustd': 654, 'tubabüyüküstün': 655, 'enginakyürek': 656, 'fcb': 657, 'co2': 658, 'thechosenone': 659, 'qarmy': 660, 'trackandtrace': 661, 'skipton': 662, 'emergencyalertuk': 663, 'ohio': 664, 'snpout': 665, 'arrestnicolanow': 666, 'polygon': 667, 'sosnhs': 668, 'bullybarclay': 669, 'rcn': 670, 'bma': 671, 'handjuicer': 672, 'juicer': 673, 'mixergrinder': 674, 'handgrinder': 675, 'healthyjuice': 676, 'housemusic': 677, 'moonbinweloveyou': 678, 'moobin': 679, 'emergencyplanner': 680, 'businessowners': 681, 'businessgrowth': 682, 'grow': 683, 'jesus': 684, 'christian': 685, 'christmas': 686, 'whatemergencyalert': 687, 'gt7': 688, 'gt7purescapes': 689, 'granturismo7': 690, 'granturismo': 691, 'twitchclips': 692, 'svbbank': 693, 'shetellmesay': 694, 'thearchers': 695, 'kateking': 696, 'londin': 697, 'heavens': 698, 'our': 699, 'birthdayboy': 700, 'jeno': 701, 'atikuwontheelection': 702, 'redefinenigeria': 703, 'کا': 704, 'کرش': 705, 'eid2023': 706, 'زدہ': 707, 'فیصلے': 708, 'eidwithimrankhan': 709, 'goodtimes': 710, 'joelinton': 711, 'nufcawayday': 712, 'talksport': 713, 'geordies': 714, 'brazil': 715, 'uefachampionsleague': 716, 'eddiehowesblackandwhitearmy': 717, 'watford': 718, 'casemiro': 719, 'sexism': 720, 'islamphobia': 721, 'edinburgh': 722, 'tutorial': 723, 'paydayistimeless': 724, 'onearsenal': 725, 'goonerfamily': 726, 'arsenalfc': 727, 'ghana': 728, 'byebye': 729, 'arssou': 730, 'fullee': 731, 'livnfo': 732, 'cryeve': 733, 'footballwithdme': 734, 'bbcfacup': 735, 'mutd': 736, 'brightonhovealbion': 737, 'man': 738, 'torenontour': 739, 'manchester': 740, 'robertodezerbiball': 741, 'jewishgooners': 742, 'electrician': 743, 'hove': 744, 'moulsecoomb': 745, 'caicedo': 746, 'nikujaributu': 747, 'gambingtwitter': 748, 'accountancy': 749, 'livestreaming': 750, 'livestream': 751, 'captain': 752, 'dailymail': 753, 'capitulation': 754, 'embarrassed': 755, 'fmtnews': 756, 'fmtsports': 757, 'callumwilson': 758, 'collapse': 759, 'doubleourefforts': 760, 'dannyrose': 761, 'sustainability': 762, 'newcastletottenham': 763, 'kenya': 764, 'familyacademicslacrosse': 765, 'podcasts': 766, 'ssn': 767, 'antonioconte': 768, 'baftagurucymru': 769, 'hotspur': 770, 'yourstotake': 771, 'budweiserpremierleague': 772, 'wxm': 773, 'briman': 774, 'biased': 775, 'motdboycott': 776, 'championsleague': 777, 'competition': 778, 'bayernmunich': 779, 'bhavmnu': 780, 'manu': 781, 'brimau': 782, 'efc': 783, 'rasford': 784, 'devils': 785, 'nbaplayoffs': 786, 'fortnite': 787, 'characterdesign': 788, 'conceptart': 789, 'kanewilliamson': 790, 'chepaukstadium': 791, 'ipl': 792, 'indianpremierleague': 793, 'staraikelungal': 794, 'lotto': 795, 'battleslam': 796, 'njdvsnyr': 797, 'powerbookiighost': 798, 'farhadsamji': 799, 'yourodds': 800, 'fgc': 801, 'indiegame': 802, 'gamedev': 803, 'zkxyakuza': 804, 'pawson': 805, 'martial': 806, 'unitedforthefans': 807, 'ffscotland': 808, 'loanbhoy': 809, 'hailhail': 810, 'hh': 811, 'hoops': 812, 'celticfamily': 813, 'bhoys': 814, 'pittodrie': 815, 'dons': 816, 'breakingnews': 817, 'fordereport': 818, 'labourfiles': 819, 'antisemitism': 820, 'antiwhite': 821, 'sirsoftie': 822, 'labour': 823, 'odysee': 824, 'doreenlawrence': 825, 'abdngers': 826, 'happychaeyoungday': 827, 'sakalahelpline': 828, 'services': 829, 'thismonththatyear': 830, 'enam': 831, 'medicne': 832, 'doctors': 833, 'funfact': 834, 'climate': 835, 'solanke': 836, 'microsoft': 837, 'saudiaramco': 838, 'alphabet': 839, 'success': 840, 'nullvaluesッ': 841, 'ad': 842, 'dealoftheday': 843, 'playstation5': 844, 'lilly': 845, 'privacyoniphone': 846, 'chatgpt': 847, 'chatbot': 848, 'ios': 849, 'zonauang': 850, 'niinisell': 851, 'wallpaper': 852, 'kawaii': 853, 'kmanga': 854, 'アイゼンフリューゲル': 855, 'ベルセルク': 856, 'mobilephotography': 857, 'iphoneography': 858, 'giftdata': 859, 'iphone12': 860, 'iphone13': 861, 'iphonewithoutbox': 862, 'golddigger': 863, '100w': 864, 'usb': 865, 'charger': 866, 'anker': 867, 'nano': 868, 'port': 869, 'fast': 870, 'compact': 871, 'gan': 872, 'macbook': 873, 'iconic': 874, 'spectrummobile': 875, 'iphone15': 876, 'bbtitans': 877, 'blackandwhite': 878, 'blackandwhitephoto': 879, 'blackandwhitephotography': 880, 'architecture': 881, 'dresden': 882, 'defends': 883, 'refused': 884, 'cloud': 885, 'skymobile': 886, 'webinar': 887, 'broadbandcustomers': 888, 'millionsofbroadband': 889, 'mobileandbroadband': 890, 'fujitsu': 891, 'anghami': 892, 'securityalert': 893, 'maalialbum': 894, '트와이스': 895, 'readytobe': 896, '5th': 897, 'tour': 898, 'fighthype': 899, 'movie': 900, 'thelastdrivein': 901, 'davisvsgarcia': 902, 'jimin': 903, 'romekage': 904, 'im703peru': 905, 'mvcvmac': 906, 'positivealbionvibes': 907, 'gckinaccra': 908, 'bumblebee': 909, 'ottvoucher': 910, 'alarmtest': 911, 'ballintra': 912, 'countydonegal': 913, 'severealert': 914, 'o2': 915, 'virginmobile': 916, 'three': 917, 'noalert': 918, 'alerttest': 919, 'threemobile': 920, 'idmobile': 921, 'noemergencyalert': 922, 'pixel7': 923, 'fail': 924, 'ukgov': 925, 'network': 926, 'sscaspirants': 927, 'sscrights': 928, 'samfender': 929, 'george': 930, 'land': 931, 'forces': 932, 'newport': 933, 'fordington': 934, 'dorchester': 935, 'ww1': 936, 'greece': 937, 'ελλάδα': 938, 'aegean': 939, 'mediterranean': 940, 'peloponnese': 941, 'πελοποννησος': 942, 'cpfc': 943, 'hedgewatch': 944, 'hedgewatchers': 945, 'english': 946, 'firsttmaster': 947, 'princessofwales': 948, 'royalfamily': 949, 'realroyals': 950, 'englandrl': 951, 'parade': 952, 'scouts': 953, 'toryfascistdictatorship': 954, 'handsinthetill': 955, 'otd': 956, 'whoseric': 957, 'sonheungmin': 958, 'sonny': 959, '손흥민': 960, 'pusb': 961, 'dezerbi': 962, 'sanchez': 963, 'steele': 964, 'smartnews': 965, 'no': 966, 'ballers': 967, 'whitesox': 968, 'mmopen': 969, 'romerogormaz': 970, 'theunitedstand': 971, 'davinsonsanchez': 972, 'fornals': 973, 'westhamunited': 974, 'citisports': 975, 'watch': 976, 'klausschwab': 977, 'apexlegends': 978, 'fishtanklive': 979, '做爱': 980, '高跟': 981, '足控': 982, 'cskvsrr': 983, 'wagner': 984, 'rhoabuja': 985, 'vibegoddess': 986, 'extraqueen': 987, 'bansteve': 988, 'jenlisa': 989, 'jennie': 990, 'lisa': 991, 'baymci': 992, 'gers': 993, 'utternonsense': 994, 'cinchprem': 995, 'abdnran': 996, 'twocents': 997, 'inplay': 998, 'woosh': 999, 'scales': 1000, 'meantit': 1001, 'abrdnran': 1002, 'april2023': 1003, 'aberdeenlakepark': 1004, 'park': 1005, 'lake': 1006, 'fountain': 1007, 'reflection': 1008, 'leicester': 1009, 'wwfc': 1010, 'australiansoccer': 1011, 'city': 1012, 'optussport': 1013, 'leicestermercury': 1014, 'foxes': 1015, '上海': 1016, 'malamute': 1017, '跑分': 1018, '偏门': 1019, '副业': 1020, '支付宝': 1021, '项目': 1022, '手机赚钱': 1023, '快钱': 1024, '巴萨': 1025, '捕鱼': 1026, '呼市': 1027, '连云港': 1028, 'bringbackpoch': 1029, '网赚': 1030, 'ios梯子': 1031, 'creedmoor': 1032, 'creedmoorsports': 1033, 'reloading': 1034, 'retire': 1035, 'mutantfam': 1036, '视频': 1037, '幸运5': 1038, 'ag真人': 1039, '广州': 1040, '深圳': 1041, '杭州': 1042, 'bhavsmnu': 1043, 'discord': 1044, 'active': 1045, 'members': 1046, 'wslacademy': 1047, 'shite': 1048, 'enciso': 1049, 'otw': 1050, 'supermariobrosmovie': 1051, 'bigsixmyarse': 1052, 'into1': 1053, 'into1就这样长大告别季': 1054, 'webridgexbambam': 1055, 'tutorkrp': 1056, 'nufcthfc': 1057, 'jets': 1058, 'video': 1059, 'gallowgateend': 1060, 'degentoonz': 1061, 'anime3d': 1062, 'toonshader': 1063, 'bnpr': 1064, 'npr': 1065, 'blender3d': 1066, 'joongdok': 1067, 'omniscientreadersviewpoint': 1068, '전독시': 1069, 'yoohankim': 1070, 'futsal': 1071, 'うひーメモ': 1072, 'ニュース': 1073, 'lisachellareturns': 1074, 'cars': 1075, 'drawings': 1076, 'seizongm': 1077, 'famous': 1078, 'tinadatta': 1079, 'humrahenarahehum': 1080, 'dyer': 1081, 'onthegear': 1082, 'danny': 1083, 'hillaryclinton': 1084, 'georgesoros': 1085, 'awareness': 1086, 'training': 1087, 'communication': 1088, 'absolutelydyer': 1089, 'manchestercity': 1090, 'morning': 1091, 'mulive': 1092, 'jokeclub': 1093, 'pochback': 1094, 'liverpool': 1095, 'villa': 1096, 'paypal': 1097, 'etransfer': 1098, 'fauci': 1099, 'transviolence': 1100, 'america': 1101, 'whitesupremacy': 1102, 'visionaries': 1103, 'commonsenseto': 1104, 'hill': 1105, 'pa01': 1106, 'minecraft': 1107, 'selfiesunday': 1108, 'sundayyellow': 1109, 'irises': 1110, 'gardeningtwitter': 1111, 'freepick': 1112, 'pinetwork': 1113, 'classiccars': 1114, 'gratitude': 1115, 'women': 1116, 'speakers': 1117, 'voicesofthe21century': 1118, 'speakup': 1119, 'chad': 1120, 'angelart': 1121, 'chadangel': 1122, 'aiartworks': 1123, 'canada': 1124, 'newblogpost': 1125, 'bloggers': 1126, 'bookcovers': 1127, 'share': 1128, 'chemistry': 1129, 'booksworthreading': 1130, 'gemstones': 1131, 'bishop': 1132, 'gravity': 1133, 'science': 1134, 'फूलचंद': 1135, 'गैंग': 1136, 'जिंदाबाद': 1137, 'saintrampaljiquotes': 1138, 'andrewtate': 1139, 'masculinity': 1140, 'secondamendment': 1141, 'mothersday': 1142, 'pampering': 1143, 'socks': 1144, 'trinaissance': 1145, 'bestownersever': 1146, 'craftersmarketuk': 1147, 'happylife': 1148, 'healthy': 1149, 'happyweekend': 1150, 'entrepreneur': 1151, 'therighttobehealthy': 1152, 'nonprofit': 1153, 'buctownnft': 1154, 'buctownstrong': 1155, 'loveintheair': 1156, 'bookcollection': 1157, 'ku': 1158, 'contemporaryromance': 1159, 'pmorya': 1160, 'freeplay': 1161, 'aiartwork': 1162, 'aiartistcommunity': 1163, 'midjourney': 1164, 'digitalart': 1165, 'fairies': 1166, 'surrealart': 1167, 'icymi': 1168, 'nostalgia': 1169, 'archaeology': 1170, 'sundayjams': 1171, 'joji': 1172, 'teachertwitter': 1173, 'cincodemayo': 1174, 'sundayweighin': 1175, 'republicans': 1176, 'housegop': 1177, 'donaldtrump': 1178, 'καληεβδομαδα': 1179, 'labor': 1180, 'resistanceradio': 1181, 'chillmusic': 1182, 'poultry': 1183, 'ambient': 1184, 'newage': 1185, 'karnatakaelection2023': 1186, 'hijab': 1187, 'godswarriors': 1188, 'surfing': 1189, 'biking': 1190, 'horses': 1191, 'rspb': 1192, 'cupcakes': 1193, 'newyork': 1194, 'dogs': 1195, 'animal': 1196, 'shop': 1197, 'give': 1198, 'grandma': 1199, 'cider': 1200, 'grateful': 1201, 'memories': 1202, '90s': 1203, 'oldmemories': 1204, 'ashvinibhave': 1205, 'warzone': 1206, 'workout': 1207, 'bestsisterever': 1208, '80snostalgia': 1209, 'backtothefuture': 1210, 'stayfit': 1211, 'dccomics': 1212, 'comics': 1213, 'batman': 1214, 'sundowns': 1215, 'umjolowithazola': 1216, 'todayquote': 1217, 'pathofexile': 1218, 'bose': 1219, 'artist': 1220, 'subway': 1221, 'fyp': 1222, 'rock': 1223, 'smooch': 1224, 'goldenretrievers': 1225, 'climatecrisis': 1226, 'offthegrid': 1227, 'earthships': 1228, 'ecofriendly': 1229, 'affordablehousing': 1230, 'priority': 1231, 'day2942': 1232, 'biblegirl': 1233, 'mentalgarbage': 1234, 'wildlife': 1235, 'zebra': 1236, 'motivation': 1237, 'whatinspiresme': 1238, 'introspection': 1239, 'thephotohour': 1240, 'dailyquordle454': 1241, 'poetrymonth': 1242, 'londonmarathon2023': 1243, 'seventeen': 1244, 'demvoice1': 1245, 'freshresists': 1246, 'proudblue': 1247, 'bluepride': 1248, 'restoreorder': 1249, 'restoreorderpodcast': 1250, 'infertility': 1251, 'childbirth': 1252, 'regenerativefuture': 1253, 'trendingnow': 1254, 'afternoonshowing': 1255, 'relaxing': 1256, 'indiemusic': 1257, 'joefest': 1258, 'bali': 1259, 'iwanttoplayagame': 1260, 'scifi': 1261, 'movies': 1262, 'filmtwitter': 1263, 'monday': 1264, 'cd': 1265, 'simpleminds': 1266, 'playlist': 1267, 'musicislife': 1268, 'rkfamily': 1269, 'ongod': 1270, 'lorenzo': 1271, 'amoredimammaepapà': 1272, 'santamoglie': 1273, 'ilgenerale': 1274, 'myfamily': 1275, 'beautifulmusic': 1276, 'ironman': 1277, 'marvelcomics': 1278, 'marvel': 1279, 'marvellegends': 1280, 'predictions': 1281, 'synchronicity': 1282, 'butter': 1283, 'putin': 1284, 'partner': 1285, 'greed': 1286, 'mind': 1287, 'battle': 1288, 'devil': 1289, 'stvitalpark': 1290, 'livelifetothefullest': 1291, 'day': 1292, '23rd': 1293, 'coast': 1294, 'northeast': 1295, 'chiranjeevikonidela': 1296, 'chiranjeevi': 1297, 'dsp': 1298, 'devisriprasad': 1299, 'blogs': 1300, 'song': 1301, 'album': 1302, 'songs': 1303, 'progress': 1304, 'claimit': 1305, 'motivatedbygg': 1306, 'beautifulday': 1307, 'romania': 1308, 'botosani': 1309, 'greeneyes': 1310, 'daddy': 1311, 'flowerreport': 1312, 'newjersey': 1313, 'flowers': 1314, 'viennacitymarathon': 1315, 'viennastreets': 1316, 'vienna': 1317, 'sunset': 1318, 'sunsetphotography': 1319, 'loadshedding': 1320, 'eskom': 1321, 'lufc': 1322, 'blueskyinvite': 1323, 'blueskycode': 1324, 'jacobmurphy': 1325, 'barca': 1326, 'terstegen': 1327, 'rafinha': 1328, 'gowokegobroke': 1329, 'buybuy': 1330, 'counterfeiting': 1331, 'dogproblems': 1332, 'poker': 1333, 'kick': 1334, 'goodmorningeveryone': 1335, 'avgeeks': 1336, 'aviation': 1337, 'quiz': 1338, 'wakeandbaked': 1339, 'movethatbody': 1340, 'womenwhotoke': 1341, 'bongtokes': 1342, 'mood': 1343, 'hope': 1344, 'creativity': 1345, 'dlconversations': 1346, 'hair': 1347, 'wigit': 1348, 'hairdofunday': 1349, 'panthersvsbruins': 1350, 'crawfish': 1351, 'sunshineyday': 1352, 'oilgang': 1353, 'xchallenge': 1354, 'bastarbros': 1355, 'desantisdestroysflorida': 1356, 'roastdinner': 1357, 'refs': 1358, 'pets': 1359, 'heartwarming': 1360, 'young': 1361, 'connect': 1362, 'broadstreetrun': 1363, 'ibx10': 1364, 'athlete': 1365, 'fitness': 1366, 'vca': 1367, 'bullogs': 1368, 'oatmeal': 1369, 'itsokaytoplaywithyourfood': 1370, 'gsd': 1371, 'thejokersrock': 1372, 'grilledoysters': 1373, 'fortlauderdale': 1374, 'burgers': 1375, 'tortie': 1376, 'georgeroulette': 1377, 'newmusicdaily': 1378, 'chillhop': 1379, 'kaiber': 1380, 'kaiberai': 1381, 'codc': 1382, 'sport': 1383, 'stunt': 1384, 'caughtondashcam': 1385, 'crystalhealing': 1386, 'pokemon': 1387, 'pokemongo': 1388, 'shinypokemon': 1389, 'shinysquirtle': 1390, 'beatsbyoddity': 1391, 'sotd': 1392, 'chillvibes': 1393, 'weekendreset': 1394, 'sexysunday': 1395, 'kingstonexperience': 1396, 'mombasa': 1397, 'borrell': 1398, 'birdsseenin2023': 1399, 'birds': 1400, 'birding': 1401, 'heartofsligo': 1402, 'tawnylustlodge': 1403, 'sea': 1404, 'sand': 1405, 'twitterstorians': 1406, 'weekendplans': 1407, 'weekendfun': 1408, 'weekendgetaway': 1409, 'artistsoftwitter': 1410, 'sculpture': 1411, 'polymerclay': 1412, 'smoke': 1413, 'carrot': 1414, 'crunchy': 1415, 'grillitall': 1416, 'barbecue': 1417, 'pork': 1418, 'aimhigh': 1419, 'summervibes': 1420, 'kidsbooks': 1421, 'colchester': 1422, 'colchestercastle': 1423, 'robthebooks': 1424, 'nftcommunity': 1425, 'fishing': 1426, 'fishinglife': 1427, 'raiderettes': 1428, 'bathroom': 1429, 'fanedit': 1430, 'dheera': 1431, 'tanam': 1432, 'tanyasharma': 1433, 'amarupadhyay': 1434, 'hopetoseetanamtogetheragain': 1435, 'wewantdheeraback': 1436, 'the305twins': 1437, 'miamilife': 1438, 'fashion': 1439, 'fashionblogger': 1440, 'fashionstyle': 1441, 'muffin': 1442, 'pizza': 1443, 'goingout': 1444, 'sundaydate': 1445, 'cutegirl': 1446, 'mystyle': 1447, 'firstdateanniversary': 1448, '2023hopebeautyjoy': 1449, 'live': 1450, 'smallstreamer': 1451, 'amnesiarebirth': 1452, 'scary': 1453, 'thesidedoortil4pm': 1454, 'righttherethatis': 1455, 'aphmau': 1456, 'meemeow': 1457, 'meemeows': 1458, 'toyphotography': 1459, 'catsontwitter': 1460, 'catinabox': 1461, 'detroitstylepizza': 1462, 'tavernstylepizza': 1463, 'maryland': 1464, 'kensingtonmd': 1465, 'ps5share': 1466, 'callofdutymodernwarfareii': 1467, 'resurgence': 1468, 'legendsaremade': 1469, 'ecommerce': 1470, 'anchorageky': 1471, 'anchoragekentucky': 1472, 'kentuckychurches': 1473, 'worship': 1474, 'pga2k23': 1475, 'hero': 1476, 'style': 1477, 'like': 1478, 'follome': 1479, 'kkbkkj': 1480, 'viral': 1481, 'trending': 1482, 'hashtag': 1483, 'positivity': 1484, 'contestalert': 1485, 'philkoontz': 1486, 'greenvillesc': 1487, 'germanbeerday': 1488, 'tonbo': 1489, 'thehardyboycats': 1490, 'elfamousburrito': 1491, 'mexicanfood': 1492, 'weekend': 1493, 'msah101': 1494, 'woof': 1495, 'puebloviejocleveland': 1496, 'puebloviejoporter': 1497, 'sunsafety': 1498, 'mondayblues': 1499, 'selflove': 1500, 'selfloveisthebestlove': 1501, 'georgia': 1502, 'mtatsmindapark': 1503, 'postoftheday': 1504, 'animallovers': 1505, 'tanks': 1506, 'gaming': 1507, 'chilling': 1508, 'vibing': 1509, 'streamer': 1510, 'magical': 1511, 'thetomorrowshow': 1512, 'lilnasx': 1513, 'zshq': 1514, 'sticklibrarysadness': 1515, 'bepositive': 1516, 'beyourself': 1517, 'summer': 1518, 'indiansummer': 1519, 'late': 1520, 'dawsonscreek': 1521, 'pesto': 1522, 'dolce': 1523, 'haveabrightday': 1524, 'rockon': 1525, 'besafe': 1526, 'spreadlove': 1527, 'movietheatreday': 1528, 'movietheatre': 1529, 'cinema': 1530, 'projectionist': 1531, 'kansas': 1532, 'morels': 1533, 'raisetherate': 1534, 'laugh': 1535, 'joke': 1536, 'zoom': 1537, 'authorsoftwitter': 1538, 'writers': 1539, 'artists': 1540, 'boozepops': 1541, 'sundaydinner': 1542, 'foodlover': 1543, 'thread': 1544, 'mlb': 1545, 'turn22to0': 1546, 'staypositive': 1547, 'goodmonday': 1548, 'luv': 1549, 'fallontonight': 1550, 'acim': 1551, 'trun22to0': 1552, 'thephenomenalgrandprix': 1553, 'dehradun': 1554, 'uttarakhand': 1555, 'kindness': 1556, 'idwp': 1557, 'chooselove': 1558, 'kjoys1': 1559, 'sashainpcb': 1560, 'patriots': 1561, 'cycling': 1562, 'thoughts': 1563, 'deepikapadukone': 1564, 'mindset': 1565, 'supersoulsunday': 1566, 'earrings': 1567, 'sunflowers': 1568, 'bcstorm': 1569, 'socal': 1570, 'sunrise': 1571, 'masterclass': 1572, 'children': 1573, 'shorts': 1574, 'promos': 1575, 'salviasunday': 1576, 'giftideas': 1577, 'goodmorningtwitterworld': 1578, 'enjoyyourweekend': 1579, 'landscapephotography': 1580, 'photographyisart': 1581, 'travelphotography': 1582, 'beachvibes': 1583, 'forthefaithful': 1584, 'acoustic': 1585, 'middaybluesbreak': 1586, 'jerrygarcia': 1587, 'thewordofgod': 1588, 'mindful': 1589, 'innovative': 1590, 'ufo': 1591, 'ufos': 1592, 'gently': 1593, 'bluetick': 1594, 'fastercampaign': 1595, 'happiness': 1596, 'rushhour': 1597, 'rashmika': 1598, 'rashmikamandanna': 1599, 'corgi': 1600, 'corgicrew': 1601, 'corgilover': 1602, 'blackcat': 1603, 'tphdallas': 1604, 'wildflowers': 1605, 'april': 1606, 'sundaytbougts': 1607, 'enjoylife': 1608, 'sixwordstory': 1609, 'amwriting': 1610, 'thing': 1611, 'labradorretriever': 1612, 'dogsarelove': 1613, 'apocalypse': 1614, 'dystopian': 1615, 'fantasy': 1616, 'business': 1617, 'saturdaymorning': 1618, 'mocklerbassets': 1619, 'christophercross': 1620, 'allright': 1621, 'santamonica': 1622, 'breakfast': 1623, 'iamme': 1624, 'righteousness': 1625, 'abundance': 1626, 'sundaywisdom': 1627, 'dial1930': 1628, 'findjoy': 1629, 'velvetunderground': 1630, 'loureed': 1631, 'johncale': 1632, 'nico': 1633, 'prayer': 1634, 'atheist': 1635, 'positivevibes': 1636, 'confederate': 1637, 'historynotpropaganda': 1638, 'disneyland': 1639, 'nowsmoking': 1640, 'daytonabeach': 1641, 'florida': 1642, 'faith': 1643, 'musk': 1644, 'weirdmicro': 1645, 'catslover': 1646, 'zeeletter': 1647, 'ferrantorres': 1648, 'shemmypasabuy': 1649, 'klippertyklopp': 1650, 'fuckoffrodney': 1651, 'legend': 1652, 'sirbobby': 1653, 'footballislife': 1654, 'worclub': 1655, 'toondle332': 1656, 'toondle331': 1657, 'tfnufc': 1658, 'justsaying': 1659, 'nstsports': 1660, 'brutally': 1661, 'd': 1662, 'alaska': 1663, 'petersburg': 1664, 'bookishselcaday': 1665, 'americans': 1666, 'tigraygenocide': 1667, 'fiasco': 1668, 'evacuation': 1669, 'russian': 1670, 'lebanon': 1671, 'sudanese': 1672, 'eritreaprevailed': 1673, 'francenews': 1674, 'sudancrisis': 1675, 'africans': 1676, 'peaceful': 1677, 'ae5224': 1678, 'citinewsroom': 1679, 'khartoum': 1680, 'joynews': 1681, 'rsf': 1682, 'hemedti': 1683, 'oil': 1684, 'opec': 1685, 'pakistanarmy': 1686, 'egypt': 1687, 'baseballguy': 1688, 'pittsburghpirates': 1689, 'piratesfans': 1690, '엑소': 1691, 'weareoneexo': 1692, '边伯贤': 1693, '伯贤': 1694, '4minutesxbiblebuild': 1695, 'cashbackgoals': 1696, 'shopping': 1697, 'priyankachaharchoudhary': 1698, 'biblemay': 1699, 'besty': 1700, 'freenbeckyfamboommnl': 1701, 'bollingerbands': 1702, 'broadcity': 1703, 'shinningstarfreen': 1704, 'lifeofaspursfan': 1705, 'chronicleschristianradio': 1706, 'ccradioco': 1707, 'jesusislord': 1708, 'housingcrisis': 1709, 'vacancy': 1710, 'derelictireland': 1711, 'getcashback': 1712, 'lofc': 1713, 'thaladhoni': 1714, 'convey': 1715, 'dube': 1716, 'stephenfleming': 1717, 'thala': 1718, 'msdhoni𓃵': 1719, 'rcb': 1720, 'ipl23': 1721, 'ajinkyarahane': 1722, 'lacasadelfútbol': 1723, 'sagegateshead': 1724, 'happybirthday': 1725, 'thebigvalley': 1726, 'willpenny': 1727, 'thevirginian': 1728, 'bellcounty': 1729, 'utb': 1730, 'thebionicman': 1731, 'tot': 1732, 'transfersinlasthour': 1733, 'skam': 1734, 'eritreaprevails': 1735, 'naturalpromotion': 1736, 'shoppingapp': 1737, 'wethea': 1738, 'pdgachampionscup': 1739, 'discgolf': 1740, 'gameon': 1741, 'wearedgn': 1742, 'espn2': 1743, 'standclear': 1744, 'smackdown': 1745, 'wwebacklash': 1746, 'callofduty': 1747, 'nkg': 1748, 'gamedayjams': 1749, 'hitmen': 1750, 'cashbacksunday': 1751, 'onecoby': 1752, 'livgolf': 1753, 'thefuryeffect': 1754, 'buckland2023': 1755, 'leagueofchoice': 1756, 'secgolf': 1757, 'secchampionship': 1758, 'memphishardwoodclassic': 1759, 'pickleball': 1760, 'gobluehose': 1761, 'nfl': 1762, 'nflplayoffs': 1763, 'sb57': 1764, 'optic': 1765, 'asunbvb': 1766, 'pdbattleatthebay': 1767, 'lathieves': 1768, 'invitedcelebrityclassic': 1769, 'clash2023': 1770, 'tornadonation': 1771, 'obsession': 1772, 'blacklivesmatter': 1773, 'karma': 1774, 'greatgeneralalert': 1775, 'voxpopulive': 1776, 'rfkjr': 1777, 'remdesivir': 1778, 'factsnotfear': 1779, 'rightsideofhistory': 1780, 'vimeo': 1781, 'zirp': 1782, 'qe': 1783, 'godmorningfriday': 1784, 'transfers': 1785, 'tiredofhearinabouthepolarbear': 1786, 'kacchako': 1787, 'tsuka': 1788, 'radiodust': 1789, 'radiodustzine': 1790, 'radiodustvip': 1791, 'radiodustfanzine': 1792, 'nets': 1793, 'bucks': 1794, 'rangerslayer': 1795, 'gematria': 1796, 'bmwopen': 1797, 'gas': 1798, 'munich': 1799, 'atp250': 1800, 'lapistadeltenis': 1801, 'sstennis': 1802, 'carlitosalcaraz': 1803, 'atp500': 1804, 'tennisnews': 1805, 'englishandproud': 1806, 'rishisunak': 1807, 'hevercastle': 1808, 'happystgeorgesday': 1809, 'freemasons': 1810, 'pintwatch': 1811, 'enfield': 1812, 'montypython': 1813, 'unionblue': 1814, 'orchid': 1815, 'fusiliers': 1816, 'nffc': 1817, 'stamford': 1818, 'youyesyet': 1819, 'scottishrevolution': 1820, 'theillustratedrat': 1821, 'hcafc': 1822, 'summertime': 1823, 'wordnerd': 1824, 'dailyquordle': 1825, 'ufcvegas71': 1826, 'worldle': 1827, 'pawswordle': 1828, 'labrinth': 1829, 'euphoria': 1830, 'battlefront2': 1831, 'virtualphotography': 1832, 'vprt': 1833, 'artlife': 1834, 'maythe4th': 1835, 'メルセデス・モネ': 1836, 'starwarws': 1837, 'statwars': 1838, 'easter': 1839, 'arknights': 1840, 'fionnscript': 1841, 'runic': 1842, 'mrbeast': 1843, 'doge': 1844, 'freepicks': 1845, 'osrs': 1846, 'deltarune': 1847, 'deltarunefanart': 1848, 'ralsei': 1849, 'rf4': 1850, 'ralsapril': 1851, 'dbaf': 1852, 'dragonballaf': 1853, 'defikingdoms': 1854, 'dfk': 1855, 'thelegendofzelda': 1856, 'zelink': 1857, '100xgem': 1858, 'egu23': 1859, 'defi': 1860, 'limbuscompany': 1861, 'eth': 1862, 'bnb': 1863, 'gala': 1864, 'gmx': 1865, 'qnt': 1866, 'ganondorf': 1867, 'botw': 1868, 'zeldatearsofthekingdom': 1869, 'ontheatpresultswith': 1870, 'boticvandezandschu': 1871, 'legendofzelda': 1872, 'ゼルダの伝説ティアーズオブザキングダム': 1873, 'munichopen': 1874, 'atp': 1875, 'witch': 1876, 'brat': 1877, 'injuryfaker': 1878, 'atptour': 1879, 'nintendo': 1880, 'fanart': 1881, 'ゼルダ': 1882, 'avfc': 1883, 'canyaman': 1884, 'demetözdemi̇r': 1885, 'app': 1886, 'fiestadeportivadelalba': 1887, 'juegosdeportivosalba': 1888, 'juegosdelalba2023': 1889, 'entuforever': 1890, 'engintuba': 1891, 'díadellibro': 1892, 'sencalkapimi': 1893, 'handeerçel': 1894, 'kerembürsin': 1895, 'hanker': 1896, 'edser': 1897, 'diadellibro': 1898, '23deabril': 1899, '23abril': 1900, 'learnspanish': 1901, 'arkansas': 1902, 'astroturf': 1903, 'desatan': 1904, 'republicansaretheproblem': 1905, 'republicanshateamerica': 1906, 'm4ldocument': 1907, 'buckscounty': 1908, 'pedri': 1909, 'baratm': 1910, 'fnf': 1911, 'fnfmods': 1912, 'sinners': 1913, 'nationalasparagusday': 1914, 'westendorftirol': 1915, 'sucrose': 1916, 'genshinimpact': 1917, 'gems': 1918, 'vinnytsia': 1919, 'farm': 1920, 'food': 1921, 'redfoottortoise': 1922, 'sandeedthetortoise': 1923, 'greens': 1924, 'bacon': 1925, 'lettuce': 1926, 'tomato': 1927, 'toast': 1928, 'mayonnaise': 1929, 'maccheese': 1930, 'noeffort': 1931, 'madness': 1932, 'tomatoes': 1933, 'littlewitchacademia': 1934, 'littlewitchacademiafanart': 1935, 'diakko': 1936, 'diakkofanart': 1937, 'yuri': 1938, 'anime': 1939, 'breathofthewild': 1940, 'mythicalmashup': 1941, 'omori': 1942, 'omorifanart': 1943, 'flowerartbelike': 1944, 'comedyskits': 1945, 'marriedlife': 1946, 'short': 1947, 'blt': 1948, 'snackflap': 1949}\n"
     ]
    }
   ],
   "source": [
    "print(f'There are {len(tweets)} tweets, ')\n",
    "print(f'the tweets contain {len(tweets_tokenizer.word_index)} different words.')\n",
    "print(f'There are {len(hashtags_tokenizer.word_index)} different hashtags')\n",
    "print('Here are the tokenized hashtags')\n",
    "print(hashtags_word_index)"
   ]
  },
  {
   "cell_type": "code",
   "execution_count": 118,
   "metadata": {},
   "outputs": [
    {
     "name": "stdout",
     "output_type": "stream",
     "text": [
      "7707\n"
     ]
    }
   ],
   "source": [
    "num_tokens = len(tweets_word_index) + 1\n",
    "embedding_dim = 300\n",
    "hits = 0\n",
    "misses = 0\n",
    "print(num_tokens)\n",
    "\n",
    "embedding_matrix = np.zeros((num_tokens, embedding_dim))\n",
    "for word, i in tweets_word_index.items():\n",
    "    embedding_vector = embeddings_index.get(word)\n",
    "    if embedding_vector is not None:\n",
    "        # Words not found in embedding index will be all-zeros.\n",
    "        # This includes the representation for \"padding\" and \"OOV\"\n",
    "        if embedding_vector.shape == (300,):\n",
    "            embedding_matrix[i] = embedding_vector\n",
    "        hits += 1\n",
    "    else:\n",
    "        misses += 1"
   ]
  },
  {
   "cell_type": "code",
   "execution_count": 119,
   "metadata": {},
   "outputs": [
    {
     "name": "stdout",
     "output_type": "stream",
     "text": [
      "6172 1534\n"
     ]
    }
   ],
   "source": [
    "print(hits, misses)"
   ]
  },
  {
   "attachments": {},
   "cell_type": "markdown",
   "metadata": {},
   "source": [
    "## Create the sequences and pad them and one hot encode the hashtags\n",
    "Will use a binary vector to encode the hashtags to the model can categorize the tweets. e.g. hashtags[0] = [tag1, tag2], and tag1 has encoding of 1 and tag2 has encoding 2, then the binary vector wil be [0 1 1 0 0 ... no_of_different_hashtags]"
   ]
  },
  {
   "cell_type": "code",
   "execution_count": 120,
   "metadata": {},
   "outputs": [],
   "source": [
    "sequence_length = 10\n",
    "\n",
    "from keras.utils import pad_sequences\n",
    "tweets_sequences = tweets_tokenizer.texts_to_sequences(tweets)\n",
    "hashtags_sequences = hashtags_tokenizer.texts_to_sequences(hashtags)\n",
    "tweets_sequences_padded = pad_sequences(tweets_sequences, padding=\"post\", maxlen=sequence_length)"
   ]
  },
  {
   "cell_type": "code",
   "execution_count": 121,
   "metadata": {},
   "outputs": [],
   "source": [
    "from keras.utils import to_categorical\n",
    "import tensorflow as tf\n",
    "\n",
    "no_of_different_hashtags = len(hashtags_word_index) + 1\n",
    "no_of_hashtags = len(hashtags_sequences)\n",
    "\n",
    "encoded_hashtags = np.zeros((no_of_hashtags, no_of_different_hashtags))\n",
    "\n",
    "for i, hashtags_indices in enumerate(hashtags_sequences):\n",
    "    encoded_hashtags[i][hashtags_indices] = 1\n",
    "\n",
    "\n",
    "encoded_hashtags = np.array(encoded_hashtags)\n"
   ]
  },
  {
   "cell_type": "markdown",
   "metadata": {},
   "source": [
    "## Build the model"
   ]
  },
  {
   "cell_type": "code",
   "execution_count": 122,
   "metadata": {},
   "outputs": [],
   "source": [
    "#hyperparameters\n",
    "embedding_dimensions = 300\n",
    "lstm_units = 100\n",
    "dropout_value = 0.5\n",
    "conv_filters = 64\n",
    "conv_kernel_size = 5"
   ]
  },
  {
   "cell_type": "code",
   "execution_count": 123,
   "metadata": {},
   "outputs": [
    {
     "name": "stdout",
     "output_type": "stream",
     "text": [
      "Model: \"sequential_9\"\n",
      "_________________________________________________________________\n",
      " Layer (type)                Output Shape              Param #   \n",
      "=================================================================\n",
      " embedding_10 (Embedding)    (None, 10, 300)           2312100   \n",
      "                                                                 \n",
      " dropout_23 (Dropout)        (None, 10, 300)           0         \n",
      "                                                                 \n",
      " bidirectional_15 (Bidirecti  (None, 10, 200)          320800    \n",
      " onal)                                                           \n",
      "                                                                 \n",
      " dropout_24 (Dropout)        (None, 10, 200)           0         \n",
      "                                                                 \n",
      " bidirectional_16 (Bidirecti  (None, 200)              240800    \n",
      " onal)                                                           \n",
      "                                                                 \n",
      " dropout_25 (Dropout)        (None, 200)               0         \n",
      "                                                                 \n",
      " dense_9 (Dense)             (None, 1950)              391950    \n",
      "                                                                 \n",
      "=================================================================\n",
      "Total params: 3,265,650\n",
      "Trainable params: 953,550\n",
      "Non-trainable params: 2,312,100\n",
      "_________________________________________________________________\n"
     ]
    }
   ],
   "source": [
    "from keras import initializers\n",
    "\n",
    "no_of_tweets_words = len(tweets_word_index) + 1\n",
    "\n",
    "hashtag_recommender_model = tf.keras.Sequential([\n",
    "    tf.keras.layers.Embedding(no_of_tweets_words, embedding_dimensions,\n",
    "                               input_length=sequence_length,\n",
    "                                 embeddings_initializer=initializers.Constant(embedding_matrix),\n",
    "                                   trainable=False),\n",
    "    # tf.keras.layers.Conv1D(conv_filters, conv_kernel_size, activation='relu'),\n",
    "    tf.keras.layers.Dropout(dropout_value),\n",
    "    # tf.keras.layers.Bidirectional(tf.keras.layers.LSTM(100, return_sequences=True)),\n",
    "    # tf.keras.layers.Dropout(dropout_value),\n",
    "    tf.keras.layers.Bidirectional(tf.keras.layers.LSTM(lstm_units)),\n",
    "    tf.keras.layers.Dropout(dropout_value),\n",
    "    tf.keras.layers.Dense(no_of_different_hashtags, activation='softmax')\n",
    "])\n",
    "\n",
    "hashtag_recommender_model.compile(\n",
    "    loss='categorical_crossentropy',\n",
    "    optimizer='adam',\n",
    "    metrics = ['accuracy']\n",
    ")\n",
    "\n",
    "hashtag_recommender_model.summary()"
   ]
  },
  {
   "attachments": {},
   "cell_type": "markdown",
   "metadata": {},
   "source": [
    "## Train the model"
   ]
  },
  {
   "cell_type": "code",
   "execution_count": 124,
   "metadata": {},
   "outputs": [
    {
     "name": "stdout",
     "output_type": "stream",
     "text": [
      "Epoch 1/8\n",
      "127/127 [==============================] - 7s 19ms/step - loss: 11.5943 - accuracy: 0.2282\n",
      "Epoch 2/8\n",
      "127/127 [==============================] - 2s 19ms/step - loss: 11.4114 - accuracy: 0.3070\n",
      "Epoch 3/8\n",
      "127/127 [==============================] - 2s 19ms/step - loss: 12.1408 - accuracy: 0.3310\n",
      "Epoch 4/8\n",
      "127/127 [==============================] - 2s 20ms/step - loss: 12.7295 - accuracy: 0.3454\n",
      "Epoch 5/8\n",
      "127/127 [==============================] - 3s 20ms/step - loss: 14.2865 - accuracy: 0.3461\n",
      "Epoch 6/8\n",
      "127/127 [==============================] - 2s 20ms/step - loss: 15.0405 - accuracy: 0.3600\n",
      "Epoch 7/8\n",
      "127/127 [==============================] - 2s 19ms/step - loss: 15.7543 - accuracy: 0.3649\n",
      "Epoch 8/8\n",
      "127/127 [==============================] - 3s 20ms/step - loss: 16.9177 - accuracy: 0.3644\n"
     ]
    },
    {
     "data": {
      "text/plain": [
       "<keras.callbacks.History at 0x2329e743430>"
      ]
     },
     "execution_count": 124,
     "metadata": {},
     "output_type": "execute_result"
    }
   ],
   "source": [
    "epochs = 8\n",
    "hashtag_recommender_model.fit(tweets_sequences_padded, encoded_hashtags, epochs=epochs)"
   ]
  },
  {
   "attachments": {},
   "cell_type": "markdown",
   "metadata": {},
   "source": [
    "## Get hashtags!!"
   ]
  },
  {
   "cell_type": "code",
   "execution_count": 125,
   "metadata": {},
   "outputs": [],
   "source": [
    "def predict(tweet, tweet_tokenizer, hashtag_tokenizer, pad_length, model):\n",
    "    tweet_sequence = tweet_tokenizer.texts_to_sequences([tweet])[0]\n",
    "    padded_tweet_sequence = pad_sequences([tweet_sequence], maxlen=pad_length, padding='post')\n",
    "    prediction = (model.predict(padded_tweet_sequence))\n",
    "    hashtag_index = np.argmax(prediction, axis=-1)[0]\n",
    "    return hashtag_tokenizer.index_word[hashtag_index]\n"
   ]
  },
  {
   "cell_type": "code",
   "execution_count": 143,
   "metadata": {},
   "outputs": [
    {
     "name": "stdout",
     "output_type": "stream",
     "text": [
      "1/1 [==============================] - 0s 18ms/step\n",
      "sundayvibes\n"
     ]
    }
   ],
   "source": [
    "print(predict('oh my god', tweets_tokenizer, hashtags_tokenizer, 10, hashtag_recommender_model))"
   ]
  },
  {
   "cell_type": "code",
   "execution_count": null,
   "metadata": {},
   "outputs": [],
   "source": []
  }
 ],
 "metadata": {
  "kernelspec": {
   "display_name": "base",
   "language": "python",
   "name": "python3"
  },
  "language_info": {
   "codemirror_mode": {
    "name": "ipython",
    "version": 3
   },
   "file_extension": ".py",
   "mimetype": "text/x-python",
   "name": "python",
   "nbconvert_exporter": "python",
   "pygments_lexer": "ipython3",
   "version": "3.10.9"
  },
  "orig_nbformat": 4
 },
 "nbformat": 4,
 "nbformat_minor": 2
}
