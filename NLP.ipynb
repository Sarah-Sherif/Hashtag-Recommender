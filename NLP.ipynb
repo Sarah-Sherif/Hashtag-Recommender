{
 "cells": [
  {
   "attachments": {},
   "cell_type": "markdown",
   "metadata": {},
   "source": [
    "## Get the data\n",
    "csv headings: id, created_at, source, original_text, clean_text, favorite_count, retweet_count, hashtags, trend <br>\n",
    "hashtags format: strings with comma separated hashtags"
   ]
  },
  {
   "cell_type": "code",
   "execution_count": 1,
   "metadata": {},
   "outputs": [],
   "source": [
    "#File paths\n",
    "US_tweets_file = './Data/USTweets.csv'\n",
    "UK_tweets_file = './Data/UKTweets.csv'"
   ]
  },
  {
   "cell_type": "code",
   "execution_count": 2,
   "metadata": {},
   "outputs": [],
   "source": [
    "import csv\n",
    "\n",
    "tweets = []\n",
    "hashtags = [] #list of lists of hashtags e.g. hashtags[0] = [\"hashtag1\", \"hashtag2\"]\n",
    "hashtags_strings = [] #list of hashtags string e.g. hashtags[0] = [\"hashtag1, hashtag2\"]\n"
   ]
  },
  {
   "attachments": {},
   "cell_type": "markdown",
   "metadata": {},
   "source": [
    "UK data"
   ]
  },
  {
   "cell_type": "code",
   "execution_count": 3,
   "metadata": {},
   "outputs": [],
   "source": [
    "with open(UK_tweets_file) as data_file:\n",
    "    data = csv.reader(data_file)\n",
    "    next(data) #To skip the headings\n",
    "    for row in data:\n",
    "        tweets.append(row[4])\n",
    "        hashtags.append(row[7].split(\", \"))\n",
    "        hashtags_strings.append(row[7])"
   ]
  },
  {
   "attachments": {},
   "cell_type": "markdown",
   "metadata": {},
   "source": [
    "US data"
   ]
  },
  {
   "cell_type": "code",
   "execution_count": 4,
   "metadata": {},
   "outputs": [],
   "source": [
    "# with open(US_tweets_file) as data_file:\n",
    "#     data = csv.reader(data_file)\n",
    "#     next(data) #To skip the headings\n",
    "#     for row in data:\n",
    "#         tweets.append(row[4])\n",
    "#         hashtags.append(row[7].split(\", \"))\n",
    "#         hashtags_strings.append(row[7])"
   ]
  },
  {
   "attachments": {},
   "cell_type": "markdown",
   "metadata": {},
   "source": [
    "## Initialize the tokenizers\n",
    "Will use a specialized tokenizer for the hashtags because we need to encode all the hashtags. It also does not matter if the encoding of the tweets match the encoding of the hashtags."
   ]
  },
  {
   "cell_type": "code",
   "execution_count": 5,
   "metadata": {},
   "outputs": [],
   "source": [
    "from keras.preprocessing.text import Tokenizer\n",
    "\n",
    "tweets_tokenizer = Tokenizer(oov_token=\"<OOV>\")\n",
    "tweets_tokenizer.fit_on_texts(tweets)\n",
    "tweets_word_index = tweets_tokenizer.word_index\n",
    "tweets_index_word = tweets_tokenizer.index_word"
   ]
  },
  {
   "cell_type": "code",
   "execution_count": 6,
   "metadata": {},
   "outputs": [],
   "source": [
    "hashtags_tokenizer = Tokenizer(oov_token=\"<OOV>\")\n",
    "hashtags_tokenizer.fit_on_texts(hashtags_strings)\n",
    "hashtags_word_index = hashtags_tokenizer.word_index\n",
    "hashtags_index_word = hashtags_tokenizer.index_word"
   ]
  },
  {
   "cell_type": "code",
   "execution_count": 7,
   "metadata": {},
   "outputs": [
    {
     "name": "stdout",
     "output_type": "stream",
     "text": [
      "There are 6947 tweets, \n",
      "the tweets contain 10367 different words.\n",
      "There are 2179 different hashtags\n",
      "Here are the tokenized hashtags\n",
      "{'<OOV>': 1, 'emergencyalert': 2, 'newtot': 3, 'forgotten80s': 4, 'malpractice': 5, 'nufc': 6, 'showman': 7, 'bouwhu': 8, 'barçaatleti': 9, 'northernlights': 10, 'aurora': 11, 'spurs': 12, 'thfc': 13, 'stgeorgesday': 14, 'derrenbrown': 15, 'davisgarcia': 16, 'auroraborealis': 17, 'coys': 18, 'mufc': 19, 'emergencyalerts': 20, 'swfc': 21, 'earthday': 22, 'dcfc': 23, 'tottenham': 24, 'premierleague': 25, 'donbelle': 26, 'barcaatleti': 27, 'facup': 28, 'pinkchella': 29, 'newcastle': 30, 'rcbvrr': 31, 'levyout': 32, 'warriors': 33, 'dubnation': 34, 'rcbvsrr': 35, 'motd2': 36, 'cskvskkr': 37, 'sundayvibes': 38, 'newcastleunited': 39, 'solarpromotionsociety': 40, 'sps': 41, 'iub': 42, 'team': 43, 'solar': 44, 'promotion': 45, 'ttid': 46, 'getwellsoonpakistan': 47, 'timelessconcert': 48, 'england': 49, 'stgeorgesday2023': 50, 'dcfcfans': 51, 'derrenbrownshowman': 52, 'fpl': 53, 'nba': 54, 'enicout': 55, 'pl': 56, 'nbaplayoffs': 57, 'tottenhamhotspur': 58, 'nufcfans': 59, 'psvaja': 60, 'bhafc': 61, 'bcafc': 62, 'ntfc': 63, 'toonarmy': 64, 'hwtl': 65, 'stgeorge': 66, 'spursy': 67, 'epl': 68, 'bbcfootball': 69, 'happyjenoday': 70, 'perceptiononrapture': 71, 'brighton': 72, 'bafc': 73, 'munbha': 74, 'eflawards': 75, 'eidmubarak': 76, 'goldblooded': 77, 'ukraine': 78, 'uk': 79, 'sacramento': 80, 'kkrvcsk': 81, 'manutd': 82, 'motd': 83, 'itv': 84, 'agent': 85, 'manchesterunited': 86, 'solarstorm': 87, 'agentonapril28th': 88, 'akhilakkineni': 89, 'nagarjuna': 90, 'bhamun': 91, 'kings': 92, 'honkaistarrail': 93, 'msdhoni': 94, 'kkrvscsk': 95, 'threeuk': 96, 'bitcoin': 97, 'arsenal': 98, 'happystgeorgesday': 99, 'scotland': 100, 'blockthebluechecks': 101, 'itfc': 102, 'webridgexbambam': 103, 'custody': 104, 'otd': 105, 'shropshire': 106, 'cornwall': 107, 'levy': 108, 'wales': 109, 'conte': 110, 'chokli': 111, 'dineshkarthik': 112, 'chinnaswamystadium': 113, 'nifty': 114, 'nifty50': 115, 'sensex': 116, 'stockmarket': 117, 'ai': 118, 'emiratesfacup': 119, 'wwrams': 120, 'kanagajnr': 121, 'technology': 122, 'theking': 123, 'tiger3': 124, 'climateemergency': 125, 'shrewsbury': 126, 'art': 127, 'nbaonabc': 128, 'chatgpt': 129, 'three': 130, 'alert': 131, 'dionexstarlink': 132, 'liverpool': 133, 'toon': 134, 'sunday': 135, 'football': 136, 'ukemergencyalert': 137, 'corrie': 138, 'moray': 139, 'morayfirth': 140, 'lineofduty': 141, 'zendaya': 142, 'update': 143, 'rcbgogreen': 144, 'katrinakaif': 145, 'newtott': 146, 'poole': 147, 'youtube': 148, 'channel4': 149, 'dailymail': 150, 'magic': 151, 'coyg': 152, 'earthquake': 153, 'saintgeorgesday': 154, 'kane': 155, 'londonmarathon': 156, 'avfc': 157, 'sudan': 158, 'sacramentokings': 159, 'influencers': 160, 'viratkohli': 161, 'lakedistrict': 162, 'howaythelads': 163, 'cfc': 164, 'ecfc': 165, 'isak': 166, 'joelinton': 167, 'leafsforever': 168, 'tweetclubnoir': 169, 'kerr': 170, 'efl': 171, 'loveukweather': 172, 'bristolrovers': 173, 'breaking': 174, 'stormhour': 175, 'freenbeckyfanboommanila': 176, 'fitnessmodel': 177, 'love': 178, 'venus': 179, 'proudtobe': 180, 'together': 181, 'devon': 182, 'new': 183, 'government': 184, 'alexanderisak': 185, 'poch': 186, 'hebrides': 187, 'wawaw': 188, 'estonia': 189, 'northernlightswales': 190, 'afc': 191, 'daniellevy': 192, 'pusb': 193, 'msps': 194, 'digitalart': 195, 'healthcare': 196, '1xbet': 197, 'coronationstreet': 198, 'knicks': 199, 'ggmu': 200, 'bristolcity': 201, 'sacvsgsw': 202, 'america': 203, 'longmynd': 204, 'celebrity': 205, 'canada': 206, 'stgeorgeandthedragon': 207, 'buendomingo': 208, 'thegatekeeperstvfanzone': 209, 'photo': 210, 'abs': 211, 'gymgirl': 212, 'sundaymorning': 213, 'facebook': 214, 'leagueone': 215, 'bluesky': 216, 'cartoon': 217, 'pinner': 218, 'basketball': 219, 'kingsvswarriors': 220, 'ness': 221, 'supersunday': 222, 'fishandchips': 223, 'cushjumbo': 224, 'eidalfitr2023': 225, 'eidalfitr': 226, 'muslim': 227, 'identity': 228, 'eidmubarak2023': 229, 'ipl2o23': 230, 'telegraphfootball': 231, 'nbaplayoffs2023': 232, 'sundayfunday': 233, 'strengthinnumbers': 234, 'advertising': 235, 'marketing': 236, 'nowplaying': 237, 'artificialintelligence': 238, 'chat': 239, 'bettingtips': 240, 'testandtrace': 241, 'viral': 242, 'championsleague': 243, 'gokingsgo': 244, 'budweiserpremierleague': 245, 'watchtimelesson189': 246, 'tot': 247, 'glazersout': 248, 'dragon': 249, 'fplcommunity': 250, 'cork': 251, 'ireland': 252, 'skillsforlife': 253, 'weghorst': 254, 'viralvideo': 255, 'csk': 256, 'jacobmurphy': 257, 'wisconsin': 258, 'shakespearesunday': 259, 'english': 260, 'rufc': 261, 'batman': 262, 'leicester': 263, 'gerson': 264, 'graceoforiattah': 265, 'kimwilde': 266, 'healthcarelaws': 267, 'gospursgo': 268, 'porvida': 269, 'nyc': 270, 'churchstretton': 271, 'destroyed': 272, 'familycourt': 273, 'legalabuse': 274, 'russia': 275, 'worldbookday': 276, 'mancity': 277, 'jenchella2023': 278, 'lfc': 279, 'nhs': 280, 'itsokaytobeenglish': 281, 'revontulet': 282, 'alexjones': 283, 'alexjoneswasright': 284, 'crypto': 285, 'domesticabuse': 286, 'moon': 287, 'fujitsu': 288, 'bacprapeculture': 289, 'mhhsbd': 290, 'greatexpectations': 291, 'うひーメモ': 292, 'rockets': 293, 'theatre': 294, 'share': 295, 'histfic': 296, 'vikings': 297, 'adventure': 298, 'nft': 299, 'lufc': 300, 'elonmusk': 301, 'emergencyalertuk': 302, 'sacramentoproud': 303, 'news': 304, 'maternal': 305, 'imrankhan': 306, 'podcast': 307, 'gaming': 308, 'warriorsground': 309, 'abia': 310, 'soap': 311, 'rccg': 312, 'casemiro': 313, 'nnamani': 314, 'pedri': 315, 'alchemy': 316, 'grasmere': 317, 'china': 318, 'newcastleutd': 319, 'tiktok': 320, 'please': 321, 'hamradio': 322, 'spaceweather': 323, 'sospursy': 324, 'robinson': 325, 'steph': 326, 'blessed': 327, 'music': 328, 'folklore': 329, 'showflicks': 330, 'french': 331, 'european': 332, 'chelsea': 333, 'nightphotography': 334, 'corona': 335, 'northdell': 336, 'ryzen': 337, 'cooled': 338, 'copper': 339, 'computer': 340, 'freedom': 341, 'warzone': 342, 'twitch': 343, 'twithtv': 344, 'entertaining': 345, 'eastdevon': 346, 'catholicengland': 347, 'bootyapprecation': 348, 'bootycheeks': 349, 'girlsfight': 350, 'directdiscrimination': 351, 'yoshida': 352, 'cult': 353, 'ukpubs': 354, 'beeroclock': 355, 'breconbeacons': 356, 'amazon': 357, 'scottishhighlands': 358, 'god': 359, 'tv': 360, 'bennyhill': 361, 'thebennyhillshow': 362, 'theitalianjob': 363, 'derby': 364, 'shoearmy': 365, 'allstarmornings': 366, 'wakeup': 367, 'auroraborealisuk': 368, 'gpt4': 369, 'gpt5': 370, 'llm': 371, 'gamblingtwitter': 372, 'redalert': 373, 'abujacars': 374, 'humor': 375, 'tories': 376, 'yourstotake': 377, 'totmun': 378, 'trending': 379, 'brown': 380, 'maine': 381, 'lawyers': 382, 'karachi': 383, 'westandwithmaleekabokhari': 384, 'harlowanddistrictscouts': 385, 'northuist': 386, 'pakistan': 387, 'palestine': 388, 'medtwitter': 389, 'medicalnegligence': 390, 'shakespearesbirthday': 391, 'badverts': 392, '8rentalcompany': 393, 'about8rental': 394, 'armageddon': 395, 'clotshot': 396, 'pinetwork': 397, 'disneyland': 398, 'artificalintelligence': 399, 'birthday': 400, 'epicfantasy': 401, 'books': 402, 'mncars': 403, 'vsb': 404, 'ad': 405, 'thehuntforraoulmoat': 406, 'antonioconte': 407, 'nupursharma': 408, 'blocktheblue': 409, 'nffc': 410, 'manunited': 411, 'sayitwithgin': 412, 'childsplayradio': 413, 'akkineninagarjuna': 414, 'boilingpoint': 415, 'light': 416, 'nature': 417, 'military': 418, 'bringbackboris': 419, 'prayforthabang': 420, 'anilsunkara': 421, 'stgeorgesfestival': 422, 'generalelectionnow': 423, 'ldnont': 424, 'footballwithdme': 425, 'diedsuddendly': 426, 'diedsuddenlyvaccine': 427, 'comedy': 428, 'bovverboys': 429, 'arm': 430, 'advanced': 431, 'chip': 432, 'technologynews': 433, 'latestnews': 434, 'nascar': 435, 'geico500': 436, 'like': 437, 'instagood': 438, 'follow': 439, 'sunvslions': 440, 'catsoftwitter': 441, 'nhs1000miles': 442, 'worldbooknight': 443, 'eid': 444, 'harrisonbarnes': 445, 'beauty': 446, 'pa': 447, 'mom': 448, 'ffscout': 449, 'beinpl': 450, 'htfc': 451, 'sidlotteforever': 452, 'fakedvro': 453, 'lies': 454, 'hospital': 455, 'toonarmyamalaysia': 456, 'stjamespark': 457, 'worflags': 458, 'niallcollins': 459, 'northernlightsfrance': 460, 'auroreboreale': 461, 'cpfc': 462, 'ku': 463, 'thenoticing': 464, 'noticing': 465, 'whymencantbeleftalone': 466, 'magicalring': 467, 'castleriggstonecircle': 468, 'ourchangingplanet': 469, 'countryfile': 470, 'blandrichter': 471, 'filming': 472, 'streetart': 473, 'chalk': 474, 'zurich': 475, 'zürich': 476, 'switzerland': 477, 'vancouver': 478, 'northamerica': 479, 'poollicht': 480, 'sandwellleader': 481, 'sandwellabour': 482, 'witchcraft': 483, 'filay': 484, 'isleoflewis': 485, 'henley': 486, 'cavs': 487, 'gspv2': 488, 'wolk': 489, 'stephcurry': 490, 'evildead': 491, 'restorethesnyderverse𓃵': 492, 'penaltyshootout': 493, 'domesticviolence': 494, 'nufctakeover': 495, 'fraudwatch': 496, 'klay': 497, 'polarlichter': 498, 'threenetwork': 499, 'アイルランド音楽': 500, 'mikan': 501, 'select': 502, 'repeat': 503, 'stgeorges': 504, 'bigotry': 505, 'privilege': 506, 'entitledignorance': 507, 'arssou': 508, 'fight': 509, 'california': 510, 'telford': 511, 'forum': 512, 'aurorauk': 513, 'mitoma': 514, 'mtsponorogo': 515, 'letsgooilers': 516, '49ers': 517, 'findmylife': 518, 'svtback': 519, 'mffl': 520, 'liberal': 521, 'guerrilla': 522, 'garden': 523, 'se1': 524, 'giveaway': 525, 'miltonkeynes': 526, 'radiotimes': 527, 'winning': 528, 'yrkvvfc': 529, 'read': 530, 'bccrss': 531, 'truthbillboards': 532, 'idsillegal': 533, 'anglosaxon': 534, 'fashion': 535, 're4': 536, 'residentevil4': 537, 'photomode': 538, 'virtualphotography': 539, 'thephotomode': 540, 'vgpnetwork': 541, 'onlyfoolsandhorses': 542, 'therussiansarecoming': 543, 'shameless': 544, '鬼滅の刃': 545, 'laurabedoya': 546, 'fitnessgirl': 547, 'women': 548, 'loris': 549, 'surenderreddy': 550, 'uaapvolleyball': 551, 'merchandise': 552, 'juniordoctors': 553, 'nurses': 554, 'keweenawpeninsula': 555, 'homeless': 556, 'ukgovernment': 557, 'العيد': 558, 'guilt': 559, 'bbtitans': 560, 'murphy': 561, 'ia': 562, 'helsinki': 563, 'finland': 564, 'stelliniout': 565, 'btc': 566, 'currybrand': 567, 'barking': 568, 'cardano': 569, 'memecoins': 570, 'hosky': 571, 'writingcommunity': 572, 'largest': 573, 'digital': 574, 'camera': 575, 'thephotohour': 576, 'aihealthcare': 577, 'ads': 578, 'stories': 579, 'snapchat': 580, 'naijabet': 581, 'london': 582, 'sportybet': 583, 'pawx': 584, 'astrophotography': 585, 'czechia': 586, 'sidangisbat': 587, 'อิคคิว': 588, 'insiders': 589, 'emergency': 590, 'cryptomarket': 591, 'author': 592, 'lunathemoonpig': 593, 'snugsthesnowbear': 594, 'mglit': 595, 'middlegrade': 596, 'exmouth': 597, 'bradleyjames': 598, 'stithians': 599, 'prabhas': 600, 'sotn': 601, 'richardarmitage': 602, 'obsession': 603, 'alarm': 604, 'imaceleb': 605, 'dalgliesh': 606, 'covid': 607, 'ebay': 608, 'desktops': 609, 'laptops': 610, 'monitors': 611, 'acer': 612, 'plymouth': 613, 'nottingham': 614, 'quote': 615, 'ucl': 616, 'beamteam': 617, 'fusiliers': 618, 'tottenhamaway': 619, 'connieslyziut': 620, 'workout': 621, 'biceps': 622, 'community': 623, 'stgeorgeday': 624, 'binance': 625, 'newport': 626, 'artist': 627, 'goldenstate': 628, 'aurora23': 629, 'podnation': 630, 'wwechampionship': 631, 'mypillow': 632, 'paranormal': 633, 'insideno9': 634, 'housemusic': 635, 'soccer': 636, 'onthisday': 637, 'googledoodle': 638, 'disabled': 639, 'seatsandal': 640, 'naxalfreeindia': 641, 'newcobtulsi': 642, 'skymobile': 643, 'stgeorgesmushrooms': 644, 'akkineniakhil': 645, 'blackpinkxcoachella': 646, 'salisbury': 647, 'newcastletottenham': 648, 'usa': 649, 'altcoins': 650, 'hull': 651, 'newyork': 652, 'titopuente': 653, 'puertorico': 654, 'dunmail': 655, 'virginia': 656, 'bobainu': 657, 'illustration': 658, 'procreate': 659, 'arabic': 660, 'gcse': 661, 'whufc': 662, 'tory': 663, 'polygon': 664, '1980s': 665, 'avive': 666, 'belfast': 667, 'week148': 668, 'amdx': 669, 'dinlin': 670, 'darkskies': 671, 'yorkshire': 672, 'sparkhill': 673, 'strictly': 674, 'premiumpick': 675, 'kateking': 676, 'poundlandac12': 677, 'huawei': 678, 'nationalbasketballassociation': 679, 'nbawesternconference': 680, 'ridgeway50': 681, 'beatmaker': 682, 'flstudio': 683, 'beats': 684, 'drake': 685, 'producer': 686, 'romanmartyrology': 687, 'martyr': 688, 'martyrdom': 689, 'googlepay': 690, 'mankindpharma': 691, 'playingnow': 692, 'jamiaviolence': 693, '4wordfootballer': 694, 'modern': 695, 'logo': 696, 'doctorwho': 697, 'dannyrose': 698, 'britanniafishandchips': 699, 'portsmouth': 700, 'threemobile': 701, 'besafe': 702, 'cryptic': 703, 'crossword': 704, 'crosswordclue': 705, 'torrancebarrens': 706, 'h': 707, 'clt': 708, 'cmpd': 709, 'latelunch': 710, 'ideas': 711, 'jinks': 712, 'welldone': 713, 'superhero': 714, 'entertainer': 715, 'entertainers': 716, 'essex': 717, 'rahulgandhi': 718, 'rahul': 719, 'gandhi': 720, 'bjp': 721, 'hindutva': 722, 'hindus': 723, 'zeeshan': 724, 'narrative': 725, '80stm': 726, 'repost': 727, 'totp': 728, 'hikingadventures': 729, 'musk': 730, 'whixallmoss': 731, 'wordsforthefuture': 732, 'emotional': 733, 'heart': 734, 'pain': 735, 'thoughts': 736, 'glasses': 737, 'boyfriend': 738, 'bestof3': 739, 'northernlightsgermany': 740, 'maandamano': 741, 'smash': 742, 'housing': 743, 'kilifi': 744, 'ruto': 745, 'gachagua': 746, 'mrgonjawrites': 747, 'assad': 748, 'gamedev': 749, 'youtubeshorts': 750, 'brexit': 751, 'nj': 752, 'auroa': 753, 'njwx': 754, 'shameonyoubacp': 755, 'tellthetruthbacp': 756, 'skysport': 757, 'btsport': 758, 'transfersinlasthour': 759, 'webelieve': 760, 'thesun': 761, 'pleiades': 762, 'andromeda': 763, 'displate': 764, 'aberystwyth': 765, 'uklife': 766, 'predictions2023': 767, 'thrillerbooks': 768, 'paperback': 769, 'workinprogress': 770, 'corner': 771, 'benchmarkinternational': 772, 'newcastlespurs': 773, 'sufc': 774, 'genoa': 775, 'hevercastle': 776, 'thedarkness': 777, 'justinhawkins': 778, 'frontman': 779, 'singer': 780, 'entertainment': 781, 'secretinvasion': 782, 'dyk': 783, 'didoharding': 784, 'truth': 785, 'thriller': 786, 'dystopian': 787, 'conspiracy': 788, 'redpill': 789, 'deckchairdom': 790, 'facts': 791, 'about': 792, 'eastersunday': 793, 'fireworksnight': 794, 'eflpots': 795, 'amiajoketoyouthree': 796, 'hospitality': 797, 'manchester': 798, 'mcr': 799, 'code': 800, 'extra': 801, 'adcoteschool': 802, 'masks': 803, 'apartheid': 804, 'fun': 805, 'video': 806, 'trendingnow': 807, 'alertasismica': 808, 'taeyangxlisa': 809, 'tirriestuesday': 810, 'supremecourt': 811, 'sb567': 812, 'gswarriorswin': 813, 'htafc': 814, 'thebeatles': 815, 'prs2023': 816, 'jamesbond': 817, 'derren': 818, 'rajkapoor': 819, 'bollywoodflashback': 820, 'anime': 821, 'saskatchewan': 822, 'onehalfwonders': 823, 'leaguetwo': 824, 'proudtobetown': 825, 'facup2023': 826, 'lloris': 827, 'reddevils': 828, 'mufcfamily': 829, 'shazamfuryofthegods': 830, 'raiseit': 831, 'oldenglish': 832, 'wotd': 833, 'motivation': 834, 'inspiration': 835, 'seagulls': 836, 'deepikapadukone': 837, 'fields': 838, 'fieldstogether': 839, 'mcfc': 840, 'tooclosetocall': 841, 'arsenalfc': 842, 'woke': 843, 'brumhour': 844, 'birmingham': 845, 'bestsellers': 846, 'terrorismthrillers': 847, 'thewarlockeffect': 848, 'bjj': 849, 'jiujitsu': 850, 'albionasone': 851, 'babarazam𓃵': 852, 'theitcrowd': 853, 'wbay': 854, 'nikujaributu': 855, 'juvnap': 856, 'kitten': 857, 'cats': 858, 'shakespeareday': 859, 'shakespeare': 860, 'fernandes': 861, 'moonbinweloveyou': 862, 'moobin': 863, 'cowbridge': 864, 'wipro': 865, 'airbnb': 866, 'airbnbhost': 867, 'airbnbphoto': 868, 'airbnblife': 869, 'airbnboftheday': 870, 'airbnbsuperhost': 871, 'sundaysnooze': 872, 'starwarscelebration': 873, 'shelfie': 874, 'therailwaygirls': 875, 'mothers': 876, 'special': 877, 'crisis': 878, 'indieapril': 879, 'kindle': 880, 'leepoll': 881, 'bordercrisis': 882, 'chris': 883, 'curry': 884, 'memes': 885, 'pulling': 886, 'roasts': 887, 'tweets': 888, 'twitter': 889, 'webber': 890, 'flyhawks': 891, 'wxtwitter': 892, 'misconduct': 893, 'fraud': 894, 'bottejobs': 895, 'ch4': 896, 'blacksmith': 897, 'marieantoinettepbs': 898, 'transterrorist': 899, 'britainsgottalent': 900, 'testalert': 901, 'nycfc': 902, 'dogsoftwitter': 903, 'ussaboy': 904, 'silence': 905, 'contentwriter': 906, 'coursecontent': 907, 'webinarscript': 908, 'researchgrant': 909, 'lightthebeam': 910, 'suns': 911, 'np': 912, 'promotingchrist': 913, 'dhonireviewsystem': 914, 'cskvkkr': 915, 'whistlepodu': 916, 'thebruvs': 917, 'buzzer': 918, 'telly': 919, 'sofa': 920, 'cartoons': 921, 'nftsforacause': 922, 'prizepicks': 923, 'fanduel': 924, 'draftkings': 925, 'kingohger': 926, 'キングオージャー': 927, 'game': 928, 'ffc': 929, 'buffalo': 930, 'nanobots': 931, 'covidvaccines': 932, 'queensscouts': 933, 'firstserveuk': 934, 'customers': 935, 'clientsfirst': 936, 'girls2ファンミ': 937, 'explorer': 938, 'norway': 939, 'saintgeorges': 940, 'jaws': 941, 'bttf': 942, 'torybritain': 943, 'soldout': 944, 'straightpride': 945, 'whitepride': 946, 'thechase': 947, 'sportsvideo': 948, 'espn': 949, 'skysports': 950, 'feastofsaintgeorge': 951, 'realestate': 952, 'mydubai': 953, 'dubai': 954, 'dubairealestate': 955, 'investindubai': 956, 'realtor': 957, 'currynation': 958, 'law': 959, 'soldiers': 960, 'gang': 961, 'spiderman': 962, 'daredevilbornagain': 963, 'bestofthree': 964, 'ontothenext': 965, 'umjolowithazola': 966, 'southernutah': 967, 'brimun': 968, 'marinho': 969, 'abc': 970, 'superman': 971, 'grossnegligence': 972, 'iona': 973, 'dailyroutine': 974, 'lessonsoflife': 975, 'goat𓃵': 976, 'arsenalfantv': 977, 'dearyme': 978, 'followme': 979, 'f4f': 980, 'radiomoments': 981, 'playoffmode': 982, 'war': 983, 'show': 984, 'buildingdream': 985, 'nywx': 986, 'nufcthfc': 987, 'championleague': 988, 'cantsmilewithoutyou': 989, 'cat': 990, 'catsofinstagram': 991, 'tabbytroop': 992, 'superdrug': 993, 'trenacox': 994, 'chester': 995, 'snowday': 996, 'baddieswest': 997, 'baddieswestfanclub': 998, 'space': 999, 'borealis': 1000, 'alltogethernow': 1001, 'feeltheroar': 1002, 'bodies': 1003, 'kagwirawoupdates': 1004, 'teasses': 1005, 'fife': 1006, 'wordle': 1007, 'fohwin': 1008, 'letlovelead': 1009, 'emergencyalerttest': 1010, 'imageoftheday': 1011, 'truestory': 1012, 'nofilter': 1013, 'april': 1014, 'latvia': 1015, 'tonight': 1016, 'midnight': 1017, 'newprofilepic': 1018, 'bluejays': 1019, 'dogsontwitter': 1020, 'toryfascistdictatorship': 1021, 'votegomez': 1022, 'yellowlegacy': 1023, 'yellowlove': 1024, 'thaladhoni': 1025, 'patientchoice': 1026, 'lupus': 1027, 'bandafútbol': 1028, 'hakimi': 1029, 'hakimidivorce': 1030, 'wizard': 1031, 'bookshoplighthouse': 1032, 'didntgetit': 1033, 'doomed': 1034, 'conservative': 1035, 'chumslane': 1036, 'proud': 1037, 'kentgolf': 1038, 'morley': 1039, 'utv': 1040, 'adwoaserwaa': 1041, 'oldphone': 1042, 'pharmacywebsite': 1043, 'itv1': 1044, 'geordies': 1045, 'phl': 1046, 'burshw': 1047, 'langham': 1048, 'mrsdavis': 1049, 'graduation': 1050, 'momlife': 1051, 'classof2023': 1052, 'hope': 1053, 'justasking': 1054, 'coyb': 1055, 'orchid': 1056, 'affiliatemarketing': 1057, 'beat': 1058, 'biter': 1059, 'ullmark': 1060, 'monk': 1061, 'dorisburke': 1062, 'taylorhall': 1063, 'aaron': 1064, 'ringthebell': 1065, 'imrankhanpti': 1066, 'palaktiwari': 1067, 'eidulfitr': 1068, 'islamabad': 1069, 'kritisanon': 1070, 'saraalikhan': 1071, 'siralexferguson': 1072, 'derbymanchester': 1073, 'cr7': 1074, 'getalife': 1075, 'jaywon': 1076, 'kingcharles': 1077, 'kingofislam': 1078, 'barnsleyfc': 1079, 'childabuse': 1080, 'ebs': 1081, 'americafirst': 1082, 'qanon': 1083, 'sunlituplands': 1084, 'carlisle': 1085, 'whenprotonmetneutron': 1086, 'darkskyweek': 1087, 'goprohero11': 1088, 'greyhounds': 1089, 'grf': 1090, 'army': 1091, 'richardstayskal': 1092, 'lungcancer': 1093, 'national': 1094, 'englishparliamentnow': 1095, 'stonestunts': 1096, 'stunts': 1097, 'designer': 1098, 'romantic': 1099, 'train': 1100, 'rf': 1101, 'encrochat': 1102, 'spiresbritishvalues': 1103, 'openingdoorsopeningminds': 1104, 'kinsale': 1105, 'binthebond': 1106, 'loadshedding': 1107, 'eskom': 1108, 'ayibosport': 1109, 'buckinghamshire': 1110, 'spur': 1111, 'cardetailing': 1112, 'goldenstatewarriors': 1113, 'orlando': 1114, 'orlandomusic': 1115, 'softrock': 1116, 'henrywrighttv': 1117, 'mlb': 1118, 'cash': 1119, 'pf': 1120, 'upbeatheman': 1121, 'ukalertsystem': 1122, 'russiaukrainewar': 1123, 'ukrainerussiawar️': 1124, 'zelensky': 1125, 'zelenski': 1126, 'transfer': 1127, 'cashin': 1128, '荡妇': 1129, '商务模特': 1130, '拉拉': 1131, 'humanfactors': 1132, 'craigtinker': 1133, 'c4news': 1134, 'talktv': 1135, 'gbnews': 1136, 'jse': 1137, 'reuters': 1138, 'nightowls': 1139, 'cryptocurency': 1140, 'dogearmy': 1141, 'shib': 1142, 'firsttmaster': 1143, 'ukgiftam': 1144, 'subauroralarc': 1145, 'bbc': 1146, 'celtic': 1147, 'cl': 1148, 'fm23': 1149, 'huh': 1150, 'womensfiction': 1151, 'usoc2023': 1152, 'rsl': 1153, 'zebras': 1154, 'coyz': 1155, 'georgian': 1156, 'utfr': 1157, 'serverlife': 1158, 'antiwoke': 1159, 'antivaxxers': 1160, 'longisland': 1161, 'eytagteam': 1162, 'stives': 1163, 'leytonorient': 1164, 'محمد': 1165, 'قنوع': 1166, 'allies': 1167, 'liitlased': 1168, 'nagelsmann': 1169, 'sikhpatriots': 1170, 'sikhheritagemonth': 1171, 'enquiring': 1172, 'film': 1173, 'celebs': 1174, 'ww3': 1175, 'empoliinter': 1176, 'seattle': 1177, 'portlandor': 1178, 'mindfulness': 1179, 'consciousness': 1180, 'usdtgiveaway': 1181, 'resoundingsilence': 1182, 'romancereads': 1183, 'ghosts': 1184, 'witch': 1185, 'freereadku': 1186, 'st': 1187, 'edru': 1188, 'pokemongo': 1189, 'cryptoflings': 1190, 'coyh': 1191, 'aksc': 1192, 'fabucensus': 1193, 'exclusive': 1194, 'ssaappeal': 1195, 'muscleatrophy': 1196, 'hernia': 1197, 'not': 1198, 'treated': 1199, 'ripdad': 1200, 'ripmrbrown': 1201, 'oafc': 1202, 'keeganmurray': 1203, 'tkachuk': 1204, 'funniestvideos': 1205, 'comefortzon': 1206, 'cbd': 1207, 'bluvwar': 1208, 'nhsmail': 1209, 'timeout': 1210, 'penalty': 1211, 'sachintendulkar': 1212, 'tdks': 1213, 'weather': 1214, 'weathercloud': 1215, 'us': 1216, 'wrexham': 1217, 'enoughisenough': 1218, 'fullsaleonly': 1219, 'rmcf': 1220, 'realmadrid': 1221, 'evildeadrise': 1222, 'evildeadrisereview': 1223, 'evildead2013': 1224, 'flufferaser': 1225, 'skybetleaguetwo': 1226, 'winwood': 1227, 'prem': 1228, 'romanempire': 1229, 'guinness': 1230, 'fa': 1231, 'shoking': 1232, 'penaltı': 1233, 'romford': 1234, 'phkansascityclash': 1235, 'georgia': 1236, 'design': 1237, 'barbzpowerisbrazy': 1238, 'benaffleck': 1239, 'alarmtest': 1240, 'gloshistfest23': 1241, 'blackrock': 1242, 'localangle': 1243, 'stellini': 1244, 'puppets': 1245, 'wewantyoutostay': 1246, 'kp8': 1247, 'thompson': 1248, 'gsw': 1249, 'cntower': 1250, 'lfcspares': 1251, 'irpin': 1252, 'freebooks': 1253, 'doylem': 1254, 'sundaymotivation': 1255, 'nbaallstar': 1256, 'comeback': 1257, 'wemissyou': 1258, 'magpies': 1259, 'covidvaccine': 1260, 'portharcourtboy': 1261, 'picardfinale': 1262, 'oops': 1263, 'ndombele': 1264, 'lakelaberge': 1265, 'cometomyyukon': 1266, 'myplmorning': 1267, 'boycotspurs': 1268, 'abujatwittercommunity': 1269, 'positivealbionvibes': 1270, '똑똑': 1271, '제노생일이에요잇': 1272, 'auroraslovakia': 1273, 'slovakia': 1274, 'night': 1275, 'severeweathereurope': 1276, 'diva': 1277, 'thepeopleswhitehouse': 1278, 'heartandhustle': 1279, 'sandeepsrrai': 1280, 'socialmediamarketing': 1281, 'digitalmarketing': 1282, 'socialmedia': 1283, 'tottenhamtennisclub': 1284, 'powys': 1285, 'tonightsmusic': 1286, 'randomscottishgravestones': 1287, 'enrique': 1288, 'menu': 1289, 'restaurant': 1290, 'media': 1291, 'template': 1292, 'book': 1293, 'rose': 1294, 'april23': 1295, 'doune': 1296, 'nbasundays': 1297, 'kcbaby': 1298, 'sntwhitton': 1299, 'suspense': 1300, 'action': 1301, 'drama': 1302, 'medical': 1303, 'litigators': 1304, 'hospitals': 1305, 'novigonews': 1306, 'bacpbigotry': 1307, 'discrimination': 1308, 'selby': 1309, 'canpl': 1310, 'phew': 1311, 'mythologymonday': 1312, 'ukgovalert': 1313, 'countrymusic': 1314, 'islamicmessagingsystem': 1315, 'derrenbrownsshowman': 1316, 'therock': 1317, 'malfunction': 1318, 'moonshine': 1319, 'teamneas': 1320, 'dcu': 1321, 'impact': 1322, 'climatechange': 1323, 'vpgamers': 1324, 'footballdaily': 1325, 'nypd': 1326, 'newyorkcitycrime': 1327, 'yumnazaidi': 1328, 'katsmumformanager': 1329, 'bigsixmyarse': 1330, 'dropfox': 1331, 'الاتحاد': 1332, 'الهلال': 1333, 'juve': 1334, 'lewy': 1335, 'araujao': 1336, 'frenkie': 1337, 'ajinkyarahane': 1338, 'fullee': 1339, 'leiwol': 1340, 'livnfo': 1341, 'breavl': 1342, 'cryeve': 1343, 'princessofwales': 1344, 'royalfamily': 1345, 'realroyals': 1346, 'robbed': 1347, 'baloch': 1348, 'testcricket': 1349, 'winchestercathedral': 1350, 'useless': 1351, 'cmg': 1352, 'lfgtomars': 1353, 'bettingpicks': 1354, 'live365': 1355, 'gospelmusic': 1356, 'wsl': 1357, 'wfc': 1358, 'nl': 1359, 'prsd': 1360, 'coloradosprings': 1361, 'colorado': 1362, 'muppets': 1363, 'parade': 1364, 'noorderlicht': 1365, 'ps5': 1366, 'modernwarfare2': 1367, 'temucash': 1368, 'alexscott': 1369, 'eagle7fm': 1370, 'powerghost': 1371, 'powerbookii': 1372, 'makeadifference': 1373, 'writerslift': 1374, 'readers': 1375, 'links': 1376, 'toons': 1377, 'control': 1378, 'dystopia': 1379, 'yahoosports': 1380, 'oldtot': 1381, 'unleashed4takeover': 1382, 'thelakedistrict': 1383, 'hori7onfirstfanmeeting': 1384, 'kindles': 1385, 'standalone': 1386, 'thrillers': 1387, 'free': 1388, 'audiobook': 1389, 'rajyasabha': 1390, 'accident': 1391, 'kmp': 1392, 'gurugram': 1393, 'gurgaon': 1394, 'haryana': 1395, 'shaqtin': 1396, 'ncafc': 1397, 'whatascore': 1398, 'itsallover': 1399, 'sparsebreakfast': 1400, 'morning': 1401, 'breakfast': 1402, 'jojobrand3': 1403, 'primeminister': 1404, 'unlimitedpotential': 1405, 'kindleunlimited': 1406, 'kingalfred': 1407, 'gravlax': 1408, 'tellmeimwrong': 1409, 'فرحه': 1410, 'مع': 1411, 'ال': 1412, 'سعيدان': 1413, 'زهقان': 1414, 'يشجع': 1415, 'الاتي': 1416, 'sports': 1417, 'homeofepl': 1418, 'hergametoo': 1419, 'motherinlaw': 1420, 'thegazayoudontsee': 1421, 'soroosh': 1422, 'sse': 1423, 'monday': 1424, 'wordlers': 1425, 'wordleing': 1426, 'beach': 1427, 'thunderstorm': 1428, 'hailstones': 1429, 'btcc': 1430, 'dalgleish': 1431, 'mitigate': 1432, 'dhonidhoni': 1433, 'nrlcowboysknights': 1434, 'bwfc': 1435, 'saintgeorge': 1436, 'teachers': 1437, 'edutwitter': 1438, 'ساس': 1439, 'کا': 1440, 'کرش': 1441, 'summerseason': 1442, 'dorrisburke': 1443, 'backboris': 1444, 'beginning': 1445, 'end': 1446, 'ifkgbg': 1447, 'moulsecoomb': 1448, 'cleverme': 1449, 'berudenotto': 1450, 'wankstain': 1451, 'welsh': 1452, 'muwin': 1453, '12steps': 1454, 'jobaid': 1455, 'earthdayeveryday': 1456, 'lovewhereyoulive': 1457, 'bhamnu': 1458, 'uts': 1459, 'hiliarious': 1460, 'newprofiepic': 1461, 'sundaynight': 1462, 'tvthriller': 1463, 'moveitorloseit': 1464, 'georgeandthedragon': 1465, 'mha': 1466, 'myheroacademia': 1467, 'teoh': 1468, 'yearsandyears': 1469, 'thebigone': 1470, 'timelord': 1471, 'toryshambles': 1472, 'grassrootsfootball': 1473, 'qarmy': 1474, 'notaracist': 1475, 'coinmaster': 1476, 'games': 1477, 'chartwell': 1478, 'bone': 1479, 'aidoge': 1480, 'pepe': 1481, 'pepedoge': 1482, 'koyo': 1483, 'pawzone': 1484, '100x': 1485, 'foys': 1486, 'mindthegap': 1487, 'victoriaandalbertmuseum': 1488, 'salop': 1489, 'writingtips': 1490, 'iphone': 1491, 'atx': 1492, 'rrexpress': 1493, 'dejevu': 1494, 'juvenapoli': 1495, 'healthcareai': 1496, 'blastfromthepast': 1497, 'awfullybritishemergencytextalerts': 1498, 'ecowarriors': 1499, 'englishsparklingwine': 1500, 'gov': 1501, 'theory': 1502, 'vodafone': 1503, 'lebara': 1504, 'tossatnight': 1505, 'based': 1506, 'theplanetbybts': 1507, 'ot7': 1508, 'theplanet': 1509, 'bastionsbybts': 1510, 'gotops': 1511, 'topsontop': 1512, 'unpopularopinion': 1513, 'lost': 1514, 'scanmeyoung': 1515, 'keithspam': 1516, 'socialism': 1517, 'dictatorship': 1518, 'sonnyleavespurs': 1519, 'kierondyer': 1520, 'web3casino': 1521, 'loadofshit': 1522, 'butbetter': 1523, 'newvideo': 1524, 'tomorrow': 1525, 'whitehouseroad': 1526, 'tylerchilders': 1527, 'coversong': 1528, 'nationalvolunteerweek': 1529, 'backhomeinthedome': 1530, 'moveon': 1531, 'geomagnetic': 1532, 'phonesoff': 1533, 'april23rd': 1534, 'internationalrescue': 1535, 'thunderbirds': 1536, 'swfclive': 1537, 'actorslife': 1538, 'kingsin7': 1539, 'dayton': 1540, 'cincinnati': 1541, 'dierout': 1542, 'sanchezout': 1543, 'fetchescoat': 1544, 'richardfairbrass': 1545, 'google': 1546, 'android': 1547, 'upsidedowncake': 1548, 'الجمعه': 1549, 'عيد': 1550, 'الفطر': 1551, 'المبارك': 1552, 'snowfallfx': 1553, '420day': 1554, 'winningmentality': 1555, 'goodtimes': 1556, 'amazing': 1557, 'coronation': 1558, 'fire': 1559, 'floods': 1560, 'ars': 1561, 'che': 1562, 'mermaids': 1563, 'picturebook': 1564, 'metoo': 1565, 'mills': 1566, 'northlondonisred': 1567, 'championship': 1568, 'rampant': 1569, 'formula1': 1570, 'bakugp': 1571, 'motorsports': 1572, 'vote': 1573, 'peepshow': 1574, 'blog': 1575, 'diagnoses': 1576, 'facuphindi': 1577, 'edgychristianfiction': 1578, 'nocovidamnesty': 1579, 'nba2k23': 1580, 'blockchain': 1581, 'logic': 1582, 'reddwarf': 1583, 'criminal': 1584, 'ytfc': 1585, 'steveweatherillbooks': 1586, 'heraldry': 1587, 'wef': 1588, 'aylesbury': 1589, 'ukalerttest': 1590, 'mentalhealthmatters': 1591, 'mentalhealthawareness': 1592, 'mentalhealthsupport': 1593, 'celtics': 1594, 'wbasun': 1595, 'conservatives': 1596, 'sega': 1597, 'nintendo': 1598, 'sony': 1599, 'steam': 1600, 'boosteroid': 1601, 'smarty': 1602, 'yansh': 1603, 'turnedoff': 1604, 'keirsarmer': 1605, 'online': 1606, 'pharmacy': 1607, 'visions': 1608, 'fantasy': 1609, 'chemistry': 1610, 'singing': 1611, 'ncctuk': 1612, 'samversuscancer': 1613, 'labour': 1614, 'kittytwitter': 1615, 'kittens': 1616, 'kitty': 1617, 'emmerdale': 1618, 'totnew': 1619, 'permacrisis': 1620, 'spursvsnewcastle': 1621, 'lutontown': 1622, 'middlesbrough': 1623, 'southzeal': 1624, 'dartmoor': 1625, 'luckydog': 1626, 'espnonabc': 1627, 'firebrigademuseum': 1628, 'saveourmuseum': 1629, 'fundraising': 1630, 'ayayayaysalsa': 1631, 'independenceday': 1632, 'resurgance': 1633, 'e4': 1634, 'sportscards': 1635, 'younggirls': 1636, 'instagram': 1637, 'bobmarley': 1638, 'veterans': 1639, 'leadership': 1640, '80s': 1641, 'accidentalpartridge': 1642, 'warrior': 1643, 'golden1': 1644, 'leaked': 1645, 'content': 1646, 'bradford': 1647, 'spurs50': 1648, 'itvx': 1649, 'kisikabhaikisikijaan': 1650, 'proudtobechatham': 1651, 'proudtobemedway': 1652, 'ee': 1653, '4g': 1654, 'pti': 1655, 'pmln': 1656, 'babybones': 1657, 'betmgm': 1658, 'brexshit': 1659, 'saam': 1660, 'weddingwednesday': 1661, 'shellshocked': 1662, 'newcastleunitedfc': 1663, 'beboldbebham': 1664, 'careers': 1665, 'agricultural': 1666, 'farming': 1667, 'warriorsinsix': 1668, 'balliesfam': 1669, 'crofam': 1670, 'ballies': 1671, 'lwos': 1672, 'aiグラビア': 1673, 'aiart': 1674, 'ai美女': 1675, 'stablediffusionai': 1676, 'agtg': 1677, 'citizensassembly': 1678, 'crashboombang': 1679, 'fraudtex': 1680, 'bealertbritainneedslerts': 1681, 'livtot': 1682, 'isaks': 1683, 'hcafc': 1684, 'plplivechats': 1685, 'globalmilitaryspending': 1686, 'sipri': 1687, 'ksymradio': 1688, 'sofascore': 1689, 'apa': 1690, 'pool': 1691, 'songsofpraise': 1692, 'cg': 1693, 'millwall': 1694, 'norwich': 1695, 'nufcvsthfc': 1696, 'harrison': 1697, 'barnes': 1698, 'neurodivergent': 1699, 'adhd': 1700, 'cplrefstats': 1701, 'tiktokw6n': 1702, 'ourcharge': 1703, 'c4': 1704, 'anyexcuseforbeer': 1705, 'fucktheefl': 1706, 'scouts': 1707, 'dearwhitepeople': 1708, 'leekangin': 1709, 'cawx': 1710, 'springwx': 1711, 'catholictwitter': 1712, 'wwfc': 1713, 'wolves': 1714, 'irish': 1715, 'sixone': 1716, 'coinbasewallet': 1717, 'coinbase': 1718, 'coronationday': 1719, 'cme': 1720, 'mufcindy': 1721, 'indy': 1722, 'blackandwhitearmy': 1723, 'johnhenrydearle': 1724, 'shahrukhkhan': 1725, 'neiljordan': 1726, 'worldchampionshipsnooker': 1727, 'ecommerce': 1728, 'themightyboosh': 1729, 'anticlimax': 1730, 'wwe2k23': 1731, 'railways': 1732, 'rail': 1733, 'aanam': 1734, 'bruins': 1735, 'liveupdate': 1736, 'joshwindass': 1737, 'windass': 1738, 'sheffieldwednesday': 1739, 'wednesday': 1740, 'owls': 1741, 'artwork': 1742, 'fanart': 1743, 'ridiculous': 1744, 'worldearthday': 1745, 'worldearthday2023': 1746, 'sosnhs': 1747, 'bullybarclay': 1748, 'rcn': 1749, 'bma': 1750, 'scientists': 1751, '外企在吉林': 1752, 'jilin': 1753, '每日一吉': 1754, 'https': 1755, 'daddy': 1756, '손오공': 1757, '오늘세븐틴6시': 1758, '공식컴백': 1759, 'enic': 1760, 'ufc': 1761, 'ramadan': 1762, 'conspiracytheories': 1763, 'aot': 1764, 'cardsagainsthumanity': 1765, 'argyll': 1766, 'eth': 1767, 'ethereum': 1768, 'reviewer': 1769, 'feelyourpain': 1770, 'hockeylife': 1771, 'childrensbook': 1772, 'hospitalmalpractice': 1773, 'life': 1774, 'onesketchaday': 1775, 'sketchbook': 1776, 'visualdiary': 1777, 'e40': 1778, 'tudor': 1779, 'portreath': 1780, 'northernlightsuk': 1781, 'boomer': 1782, 'airplaneklay': 1783, 'learning': 1784, 'emergencypreparedness': 1785, 'ranchocordova': 1786, 'bayarea': 1787, 'westernconference': 1788, 'saddlers': 1789, 'dianneabbott': 1790, 'dominicraab': 1791, 'temu': 1792, 'farzi': 1793, 'ringring': 1794, 'omnishambles': 1795, 'norfolk': 1796, 'africanartist': 1797, 'thecurse': 1798, 'fish': 1799, 'justsponsored': 1800, 'bgt': 1801, 'anushkashettyhot': 1802, 'anushkasharma': 1803, 'stevewrightintheafternoon': 1804, 'stevewright': 1805, 'newvtot': 1806, 'notmyking': 1807, 'fuckoffrodney': 1808, '双女': 1809, '男m': 1810, '校服': 1811, 'ukalert': 1812, 'harrykane': 1813, 'tshirts': 1814, 'soccerplayer': 1815, 'nowwatching': 1816, 'stigmabased': 1817, 'pressure': 1818, 'production': 1819, 'company': 1820, 'doggo': 1821, 'crochet': 1822, 'postboxtoppers': 1823, 'rockall': 1824, 'history': 1825, 'georgeharrison': 1826, 'georgemartin': 1827, 'youyesyet': 1828, 'scottishrevolution': 1829, 'sportsultras': 1830, '3sports': 1831, 'kalasatama': 1832, 'sarvlir': 1833, 'tmrworld': 1834, 'tmrnews': 1835, 'fordington': 1836, 'dorchester': 1837, 'mind': 1838, 'mindful': 1839, 'drdevanghdattani': 1840, 'dr': 1841, 'devang': 1842, 'dattani': 1843, 'infinite': 1844, 'srisrisri': 1845, 'ddd': 1846, 'theblisscity': 1847, 'nftcommunity': 1848, 'shadowhunters': 1849, 'saveshadowhunters': 1850, 'dragonborn': 1851, 'ttrpg': 1852, 'dnd': 1853, 'demontime': 1854, 'painting': 1855, 'landscapepainting': 1856, 'website': 1857, 'boysbrigade': 1858, 'sackings': 1859, 'didyouknow': 1860, '1981rated': 1861, 'bsc': 1862, 'mushrooming': 1863, 'foraging': 1864, 'coyi': 1865, 'deadisland2': 1866, 'seventeen': 1867, 'wafc': 1868, 'believe': 1869, 'tottenhamvsnewcastle': 1870, 'views': 1871, 'manojbajpayee': 1872, 'ranboospace': 1873, 'newmusic': 1874, 'soundcloud': 1875, 'wywx': 1876, 'heatwaves': 1877, 'flooding': 1878, 'drought': 1879, 'storms': 1880, 'e': 1881, 'radious': 1882, 'bankholiday': 1883, 'gmc': 1884, 'happy': 1885, 'culure': 1886, 'bbcfacup': 1887, 'afcb': 1888, 'comingsoon': 1889, 'movie': 1890, 'robinhoodmenintights': 1891, 'imdb': 1892, 'clueless': 1893, 'tottenhamshite': 1894, 'hiphop50': 1895, 'iamhiphop': 1896, 'caskisback': 1897, 'brits': 1898, 'llandeilo': 1899, 'carmarthenshire': 1900, 'uptheowls': 1901, 'slaythedragon': 1902, 'nw': 1903, 'retrogaming': 1904, 'watch': 1905, 'sunderland': 1906, 'hiltonmusiccenter': 1907, 'embarassment': 1908, 'number10cat': 1909, 'catsoftwittter': 1910, 'catsontwitter': 1911, 'researcher': 1912, 'y12k': 1913, 'results': 1914, 'kabul': 1915, '2drender': 1916, '2drendering': 1917, 'photoshop': 1918, 'ragefarmer': 1919, 'hsoriginals': 1920, 'blackownedbusiness': 1921, 'amritpalsingh': 1922, 'amritpalfraudleader': 1923, 'khalistan': 1924, 'noalert': 1925, 'poshmark': 1926, 'malepractice': 1927, 'medicalindustrialcomplex': 1928, 'options': 1929, 'ledbydonkeys': 1930, 'draymondgreen': 1931, 'primarycare': 1932, 'patientharm': 1933, 'ghana': 1934, 'foxnews': 1935, 'foxcorp': 1936, 'redwingshorsesanctuary': 1937, 'hoovesofhappiness': 1938, 'forthea': 1939, 'atlanta': 1940, 'braves': 1941, 'cafc': 1942, 'eurovision': 1943, 'basketballisalovelanguage': 1944, 'lofc': 1945, 'oneorient': 1946, 'itfv': 1947, 'infosys': 1948, 'u2': 1949, 'florida': 1950, 'dinaspowys': 1951, 'stainedglasssunday': 1952, 'blackpool': 1953, 'chave': 1954, 'waiting': 1955, 'food': 1956, 'rainy': 1957, 'day': 1958, 'birds': 1959, 'lovebirds': 1960, 'sundance2023': 1961, 'sundancefilmfestival': 1962, 'thanks': 1963, 'montypython': 1964, 'evilgenius': 1965, 'hungary': 1966, 'burton': 1967, 'jesus': 1968, 'holyspirit': 1969, 'breakingnews': 1970, 'riddles': 1971, 'dod': 1972, 'indieseries': 1973, 'destinyofdragons': 1974, 'wakeupamerica': 1975, 'guidedogs': 1976, 'listing': 1977, 'il': 1978, 'shetland': 1979, 'mirriedancers': 1980, 'fifa': 1981, 'boro': 1982, 'utb': 1983, 'glasshalfempty': 1984, 'tankvsgarcia': 1985, 'garciadavis': 1986, 'ryangarcia': 1987, 'kotka': 1988, 'sää': 1989, 'tiktokhot': 1990, 'dotd': 1991, 'maryland': 1992, 'inflation': 1993, 'naturebeauty': 1994, 'weekendvibes': 1995, 'dorset': 1996, 'managers': 1997, 'raiseourgame': 1998, 'toronto': 1999, 'topoli': 2000, 'ttc': 2001, 'austerityto': 2002, 'recruitment': 2003, 'employment': 2004, 'fmtnews': 2005, 'fmtbusiness': 2006, 'worldsnookerchampionship': 2007, 'fifa23': 2008, 'jeno': 2009, 'jisooatcoachella': 2010, 'stl': 2011, 'stlcounty': 2012, 'princeandrew': 2013, 'davidattenborough': 2014, 'ricketystoryline': 2015, 'premierleaguehistory': 2016, 'toonandgloom': 2017, 'demetözdemir': 2018, 'sofialert': 2019, '4mywall': 2020, 'armycadets': 2021, 'tataipl2023': 2022, 'dearbastard': 2023, 'sfgiants': 2024, 'britishvalues': 2025, 'barryhumphriesrip': 2026, 'dameedna': 2027, 'haveringsixthformcollege': 2028, 'emersonparkschool': 2029, 'ambjaay': 2030, 'exam': 2031, 'edexcel': 2032, 'maya': 2033, 'tawfeek': 2034, 'nhra': 2035, 'artify': 2036, 'artifycontest': 2037, 'gw33': 2038, 'sackthelot': 2039, 'stalbans': 2040, 'conteout': 2041, 'europaconference': 2042, 'substitutearseforheart': 2043, 'taskmaster': 2044, 'harrisonburg': 2045, 'freemasons': 2046, 'cannot': 2047, 'westham': 2048, 'bournemouth': 2049, 'awaydays': 2050, 'britain': 2051, 'nuclearwar': 2052, 'hide': 2053, 'rt': 2054, 'nonexistant': 2055, 'charnwood': 2056, 'woodhouse': 2057, 'hottopics': 2058, 'sarahwinnklaxon': 2059, 'sportsbettingtwitter': 2060, 'amazingmelissagrace': 2061, 'angelmansyndrome': 2062, 'mujournal': 2063, 'stamford': 2064, 'northlondon': 2065, 'coredao': 2066, 'kanagajnr𓃵': 2067, 'nufcs': 2068, 'brentford': 2069, 'byebye': 2070, 'lichfield': 2071, 'stottesdon': 2072, 'southshropshire': 2073, 'kiama': 2074, 'dubbo': 2075, 'sudanevacuation': 2076, 'sudanconflict': 2077, 'nxtprohoops': 2078, 'greatestfootballseason': 2079, 'nigeria': 2080, 'coachella2023': 2081, 'bucciovertimechallenge': 2082, 'dutyafterschoolpart2': 2083, 'effzeh': 2084, 'euugc': 2085, 'starwarsrebels': 2086, 'ps5share': 2087, 'waita2econd': 2088, 'ojyokpe': 2089, 'psychologicalthriller': 2090, 'amritpal': 2091, 'singh': 2092, 'ジャニーズwestの虹会': 2093, 'andrewrosindell': 2094, 'crawley': 2095, 'skipton': 2096, 'team2008': 2097, 'vasco': 2098, 'blueskyinvite': 2099, 'blueskycode': 2100, 'spacewx': 2101, 'auroras': 2102, 'coybig': 2103, 'drbbafc': 2104, 'beatla': 2105, 'stoptheabuse': 2106, 'savethem': 2107, 'babymonkeypain': 2108, 'babymonkeyabuse': 2109, 'monkeyhate': 2110, 'treerat': 2111, 'selflove': 2112, 'mentalhealth': 2113, 'savethetamales': 2114, 'huddersfield': 2115, 'mariomovie': 2116, 'derbycounty': 2117, 'yourodds': 2118, 'fucktilac': 2119, 'jewishgooners': 2120, 'royalchallengersbangalore': 2121, 'englishloyalists': 2122, 'joke': 2123, 'funny': 2124, 'short': 2125, 'stargazers': 2126, 'khalidibnalwaleed': 2127, 'timetraveller': 2128, 'podcastandchill': 2129, 'podernfamily': 2130, 'khartoum': 2131, 'haweythelads': 2132, 'international': 2133, 'olahraga': 2134, 'sepakbola': 2135, 'ligainggris': 2136, 'ednaslaw': 2137, 'whistleblowers': 2138, 'lifethreateningevent': 2139, 'streetwear': 2140, 'greatchoice': 2141, 'brutalfightz': 2142, 'brutalcams': 2143, 'stephencurry': 2144, 'pakistanarmy': 2145, 'preyer': 2146, 'skybetleagueone': 2147, 'plath': 2148, 'brunog': 2149, 'dogecoin': 2150, 'inwx': 2151, 'bna2023': 2152, 'circadian': 2153, 'oxford': 2154, 'toriesout290': 2155, 'spotvnow': 2156, 'cdnpoli': 2157, 'cdnpolitics': 2158, 'hotfuzz': 2159, 'newsvspurs': 2160, 'competition': 2161, '999ememergency': 2162, 'shelle': 2163, 'arsecastle': 2164, 'hugolloris': 2165, 'forster': 2166, 'retire': 2167, 'nssf': 2168, 'bbcsnooker': 2169, 'prizepick': 2170, 'dccomics': 2171, 'marvelstudios': 2172, 'oorpatts': 2173, 'mnwild': 2174, 'lfd': 2175, 'web3': 2176, 'nfts': 2177, 'nftgiveaway': 2178, 'shutdownthetbs': 2179}\n"
     ]
    }
   ],
   "source": [
    "print(f'There are {len(tweets)} tweets, ')\n",
    "print(f'the tweets contain {len(tweets_tokenizer.word_index)} different words.')\n",
    "print(f'There are {len(hashtags_tokenizer.word_index)} different hashtags')\n",
    "print('Here are the tokenized hashtags')\n",
    "print(hashtags_word_index)"
   ]
  },
  {
   "attachments": {},
   "cell_type": "markdown",
   "metadata": {},
   "source": [
    "## Prepare the pre-trained embeddings"
   ]
  },
  {
   "cell_type": "code",
   "execution_count": 9,
   "metadata": {},
   "outputs": [],
   "source": [
    "import pickle\n",
    "import numpy as np\n",
    "\n",
    "num_tokens = len(tweets_word_index) + 1\n",
    "embedding_dim = 300\n",
    "hits = 0\n",
    "misses = 0\n",
    "\n",
    "embedding_matrix = np.zeros((num_tokens, embedding_dim))\n",
    "with open('../Hashtag-recomender-embeddings/embeddings_index_object.pkl', 'rb') as embeddings_file:\n",
    "    embeddings_index = pickle.load(embeddings_file)\n",
    "    for word, i in tweets_word_index.items():\n",
    "        embedding_vector = embeddings_index.get(word)\n",
    "        if embedding_vector is not None:\n",
    "            # Words not found in embedding index will be all-zeros.\n",
    "            # This includes the representation for \"padding\" and \"OOV\"\n",
    "            if embedding_vector.shape == (300,):\n",
    "                embedding_matrix[i] = embedding_vector\n",
    "            hits += 1\n",
    "        else:\n",
    "            misses += 1"
   ]
  },
  {
   "cell_type": "code",
   "execution_count": 10,
   "metadata": {},
   "outputs": [
    {
     "name": "stdout",
     "output_type": "stream",
     "text": [
      "hits:8633, misses: 1734\n"
     ]
    }
   ],
   "source": [
    "print(f'hits:{hits}, misses: {misses}')"
   ]
  },
  {
   "attachments": {},
   "cell_type": "markdown",
   "metadata": {},
   "source": [
    "## Create the sequences and pad them and one multi-hot encode the hashtags\n",
    "Will use a binary vector to encode the hashtags to the model can categorize the tweets. e.g. hashtags[0] = [tag1, tag2], and tag1 has encoding of 1 and tag2 has encoding 2, then the binary vector wil be [0 1 1 0 0 ... no_of_different_hashtags]"
   ]
  },
  {
   "cell_type": "code",
   "execution_count": 11,
   "metadata": {},
   "outputs": [],
   "source": [
    "sequence_length = 10\n",
    "\n",
    "from keras.utils import pad_sequences\n",
    "tweets_sequences = tweets_tokenizer.texts_to_sequences(tweets)\n",
    "hashtags_sequences = hashtags_tokenizer.texts_to_sequences(hashtags)\n",
    "tweets_sequences_padded = pad_sequences(tweets_sequences, padding=\"post\", maxlen=sequence_length)"
   ]
  },
  {
   "cell_type": "code",
   "execution_count": 12,
   "metadata": {},
   "outputs": [],
   "source": [
    "from keras.utils import to_categorical\n",
    "import tensorflow as tf\n",
    "\n",
    "no_of_different_hashtags = len(hashtags_word_index) + 1\n",
    "no_of_hashtags = len(hashtags_sequences)\n",
    "\n",
    "encoded_hashtags = np.zeros((no_of_hashtags, no_of_different_hashtags))\n",
    "\n",
    "for i, hashtags_indices in enumerate(hashtags_sequences):\n",
    "    encoded_hashtags[i][hashtags_indices] = 1\n",
    "\n",
    "\n",
    "encoded_hashtags = np.array(encoded_hashtags)\n"
   ]
  },
  {
   "attachments": {},
   "cell_type": "markdown",
   "metadata": {},
   "source": [
    "## Split the data"
   ]
  },
  {
   "cell_type": "code",
   "execution_count": 27,
   "metadata": {},
   "outputs": [
    {
     "name": "stdout",
     "output_type": "stream",
     "text": [
      "5557\n"
     ]
    }
   ],
   "source": [
    "training_split = 0.8\n",
    "training_tweets_count = int(0.8 * len(tweets_sequences_padded))"
   ]
  },
  {
   "cell_type": "code",
   "execution_count": 28,
   "metadata": {},
   "outputs": [
    {
     "name": "stdout",
     "output_type": "stream",
     "text": [
      "we have 5557 tweets for training and 1390 for testing\n"
     ]
    }
   ],
   "source": [
    "train_data = tweets_sequences_padded[0:training_tweets_count]\n",
    "train_labels = encoded_hashtags[0:training_tweets_count]\n",
    "test_data = tweets_sequences_padded[training_tweets_count:]\n",
    "test_labels = encoded_hashtags[training_tweets_count:]\n",
    "\n",
    "print(f'we have {len(train_data)} tweets for training and {len(test_data)} for testing')"
   ]
  },
  {
   "cell_type": "markdown",
   "metadata": {},
   "source": [
    "## Build the model"
   ]
  },
  {
   "cell_type": "code",
   "execution_count": 44,
   "metadata": {},
   "outputs": [],
   "source": [
    "#hyperparameters\n",
    "embedding_dimensions = 300\n",
    "lstm_units = 128\n",
    "dropout_value = 0.5\n",
    "conv_filters = 64\n",
    "conv_kernel_size = 5"
   ]
  },
  {
   "cell_type": "code",
   "execution_count": 45,
   "metadata": {},
   "outputs": [
    {
     "name": "stdout",
     "output_type": "stream",
     "text": [
      "Model: \"sequential_6\"\n",
      "_________________________________________________________________\n",
      " Layer (type)                Output Shape              Param #   \n",
      "=================================================================\n",
      " embedding_6 (Embedding)     (None, 10, 300)           3110400   \n",
      "                                                                 \n",
      " bidirectional_6 (Bidirectio  (None, 256)              439296    \n",
      " nal)                                                            \n",
      "                                                                 \n",
      " dropout_7 (Dropout)         (None, 256)               0         \n",
      "                                                                 \n",
      " dense_6 (Dense)             (None, 2180)              560260    \n",
      "                                                                 \n",
      "=================================================================\n",
      "Total params: 4,109,956\n",
      "Trainable params: 999,556\n",
      "Non-trainable params: 3,110,400\n",
      "_________________________________________________________________\n"
     ]
    }
   ],
   "source": [
    "from keras import initializers\n",
    "\n",
    "no_of_tweets_words = len(tweets_word_index) + 1\n",
    "\n",
    "hashtag_recommender_model = tf.keras.Sequential([\n",
    "    tf.keras.layers.Embedding(no_of_tweets_words, embedding_dimensions,\n",
    "                               input_length=sequence_length,\n",
    "                                 embeddings_initializer=initializers.Constant(embedding_matrix),\n",
    "                                   trainable=False),\n",
    "    # tf.keras.layers.Conv1D(conv_filters, conv_kernel_size, activation='relu'),\n",
    "    # tf.keras.layers.Dropout(dropout_value),\n",
    "    # tf.keras.layers.Bidirectional(tf.keras.layers.LSTM(100, return_sequences=True)),\n",
    "    # tf.keras.layers.Dropout(dropout_value),\n",
    "    tf.keras.layers.Bidirectional(tf.keras.layers.LSTM(lstm_units)),\n",
    "    tf.keras.layers.Dropout(dropout_value),\n",
    "    tf.keras.layers.Dense(no_of_different_hashtags, activation='softmax')\n",
    "])\n",
    "\n",
    "hashtag_recommender_model.compile(\n",
    "    loss='categorical_crossentropy',\n",
    "    optimizer='adam',\n",
    "    metrics = ['accuracy']\n",
    ")\n",
    "\n",
    "hashtag_recommender_model.summary()"
   ]
  },
  {
   "attachments": {},
   "cell_type": "markdown",
   "metadata": {},
   "source": [
    "## Train the model"
   ]
  },
  {
   "cell_type": "code",
   "execution_count": 46,
   "metadata": {},
   "outputs": [
    {
     "name": "stdout",
     "output_type": "stream",
     "text": [
      "Epoch 1/30\n",
      "44/44 [==============================] - 4s 32ms/step - loss: 10.3009 - accuracy: 0.2583 - val_loss: 7.8024 - val_accuracy: 0.3209\n",
      "Epoch 2/30\n",
      "44/44 [==============================] - 1s 19ms/step - loss: 7.6739 - accuracy: 0.3576 - val_loss: 7.0572 - val_accuracy: 0.4403\n",
      "Epoch 3/30\n",
      "44/44 [==============================] - 1s 19ms/step - loss: 7.1406 - accuracy: 0.4719 - val_loss: 6.4289 - val_accuracy: 0.5432\n",
      "Epoch 4/30\n",
      "44/44 [==============================] - 1s 19ms/step - loss: 6.8951 - accuracy: 0.5173 - val_loss: 6.4537 - val_accuracy: 0.5820\n",
      "Epoch 5/30\n",
      "44/44 [==============================] - 1s 19ms/step - loss: 6.8495 - accuracy: 0.5597 - val_loss: 6.3712 - val_accuracy: 0.6079\n",
      "Epoch 6/30\n",
      "44/44 [==============================] - 1s 20ms/step - loss: 6.8886 - accuracy: 0.5957 - val_loss: 6.4351 - val_accuracy: 0.6626\n",
      "Epoch 7/30\n",
      "44/44 [==============================] - 1s 18ms/step - loss: 7.0276 - accuracy: 0.6245 - val_loss: 6.1575 - val_accuracy: 0.6719\n",
      "Epoch 8/30\n",
      "44/44 [==============================] - 1s 18ms/step - loss: 6.9658 - accuracy: 0.6309 - val_loss: 6.9391 - val_accuracy: 0.6734\n",
      "Epoch 9/30\n",
      "44/44 [==============================] - 1s 18ms/step - loss: 7.1955 - accuracy: 0.6403 - val_loss: 6.2189 - val_accuracy: 0.7194\n",
      "Epoch 10/30\n",
      "44/44 [==============================] - 1s 21ms/step - loss: 7.3320 - accuracy: 0.6547 - val_loss: 6.5140 - val_accuracy: 0.7295\n",
      "Epoch 11/30\n",
      "44/44 [==============================] - 1s 22ms/step - loss: 7.4220 - accuracy: 0.6647 - val_loss: 6.6199 - val_accuracy: 0.7302\n",
      "Epoch 12/30\n",
      "44/44 [==============================] - 1s 18ms/step - loss: 7.8461 - accuracy: 0.6626 - val_loss: 7.2166 - val_accuracy: 0.7748\n",
      "Epoch 13/30\n",
      "44/44 [==============================] - 1s 20ms/step - loss: 7.7988 - accuracy: 0.6835 - val_loss: 7.0570 - val_accuracy: 0.7942\n",
      "Epoch 14/30\n",
      "44/44 [==============================] - 1s 18ms/step - loss: 7.9111 - accuracy: 0.7129 - val_loss: 7.5273 - val_accuracy: 0.7842\n",
      "Epoch 15/30\n",
      "44/44 [==============================] - 1s 18ms/step - loss: 8.2610 - accuracy: 0.7115 - val_loss: 7.9379 - val_accuracy: 0.8007\n",
      "Epoch 16/30\n",
      "44/44 [==============================] - 1s 18ms/step - loss: 8.5423 - accuracy: 0.7086 - val_loss: 8.2587 - val_accuracy: 0.8072\n",
      "Epoch 17/30\n",
      "44/44 [==============================] - 1s 19ms/step - loss: 8.9553 - accuracy: 0.7309 - val_loss: 8.1637 - val_accuracy: 0.8288\n",
      "Epoch 18/30\n",
      "44/44 [==============================] - 1s 18ms/step - loss: 9.1498 - accuracy: 0.7338 - val_loss: 8.2324 - val_accuracy: 0.8180\n",
      "Epoch 19/30\n",
      "44/44 [==============================] - 1s 18ms/step - loss: 9.3168 - accuracy: 0.7504 - val_loss: 9.4292 - val_accuracy: 0.8194\n",
      "Epoch 20/30\n",
      "44/44 [==============================] - 1s 19ms/step - loss: 9.8488 - accuracy: 0.7583 - val_loss: 9.0007 - val_accuracy: 0.8338\n",
      "Epoch 21/30\n",
      "44/44 [==============================] - 1s 19ms/step - loss: 10.1872 - accuracy: 0.7604 - val_loss: 9.2424 - val_accuracy: 0.8353\n",
      "Epoch 22/30\n",
      "44/44 [==============================] - 1s 18ms/step - loss: 10.6899 - accuracy: 0.7482 - val_loss: 10.0485 - val_accuracy: 0.8252\n",
      "Epoch 23/30\n",
      "44/44 [==============================] - 1s 18ms/step - loss: 10.8280 - accuracy: 0.7568 - val_loss: 10.3667 - val_accuracy: 0.8468\n",
      "Epoch 24/30\n",
      "44/44 [==============================] - 1s 18ms/step - loss: 11.4706 - accuracy: 0.7676 - val_loss: 10.6692 - val_accuracy: 0.8525\n",
      "Epoch 25/30\n",
      "44/44 [==============================] - 1s 17ms/step - loss: 11.6354 - accuracy: 0.7705 - val_loss: 11.0998 - val_accuracy: 0.8489\n",
      "Epoch 26/30\n",
      "44/44 [==============================] - 1s 18ms/step - loss: 12.0708 - accuracy: 0.7727 - val_loss: 11.0525 - val_accuracy: 0.8612\n",
      "Epoch 27/30\n",
      "44/44 [==============================] - 1s 18ms/step - loss: 12.1305 - accuracy: 0.7799 - val_loss: 11.8098 - val_accuracy: 0.8655\n",
      "Epoch 28/30\n",
      "44/44 [==============================] - 1s 19ms/step - loss: 12.5712 - accuracy: 0.7878 - val_loss: 12.2520 - val_accuracy: 0.8590\n",
      "Epoch 29/30\n",
      "44/44 [==============================] - 1s 18ms/step - loss: 13.0487 - accuracy: 0.8007 - val_loss: 12.3731 - val_accuracy: 0.8647\n",
      "Epoch 30/30\n",
      "44/44 [==============================] - 1s 19ms/step - loss: 13.1676 - accuracy: 0.7863 - val_loss: 12.8527 - val_accuracy: 0.8547\n"
     ]
    },
    {
     "data": {
      "text/plain": [
       "<keras.callbacks.History at 0x2306f6bbe80>"
      ]
     },
     "execution_count": 46,
     "metadata": {},
     "output_type": "execute_result"
    }
   ],
   "source": [
    "epochs = 30\n",
    "hashtag_recommender_model.fit(test_data, test_labels, epochs=epochs, validation_data=(test_data, test_labels))"
   ]
  },
  {
   "attachments": {},
   "cell_type": "markdown",
   "metadata": {},
   "source": [
    "## Get hashtags!!"
   ]
  },
  {
   "cell_type": "code",
   "execution_count": null,
   "metadata": {},
   "outputs": [],
   "source": [
    "def predict(tweet, tweet_tokenizer, hashtag_tokenizer, pad_length, model):\n",
    "    tweet_sequence = tweet_tokenizer.texts_to_sequences([tweet])[0]\n",
    "    padded_tweet_sequence = pad_sequences([tweet_sequence], maxlen=pad_length, padding='post')\n",
    "    prediction = (model.predict(padded_tweet_sequence))\n",
    "    hashtag_indices = np.argsort(prediction, axis=-1)[0][-3:]\n",
    "    return [hashtag_tokenizer.index_word[hashtag_index] for hashtag_index in hashtag_indices]\n"
   ]
  },
  {
   "cell_type": "code",
   "execution_count": null,
   "metadata": {},
   "outputs": [],
   "source": [
    "print(predict('lit derby gg', tweets_tokenizer, hashtags_tokenizer, 10, hashtag_recommender_model))"
   ]
  },
  {
   "cell_type": "code",
   "execution_count": null,
   "metadata": {},
   "outputs": [],
   "source": []
  }
 ],
 "metadata": {
  "kernelspec": {
   "display_name": "base",
   "language": "python",
   "name": "python3"
  },
  "language_info": {
   "codemirror_mode": {
    "name": "ipython",
    "version": 3
   },
   "file_extension": ".py",
   "mimetype": "text/x-python",
   "name": "python",
   "nbconvert_exporter": "python",
   "pygments_lexer": "ipython3",
   "version": "3.10.9"
  },
  "orig_nbformat": 4
 },
 "nbformat": 4,
 "nbformat_minor": 2
}
