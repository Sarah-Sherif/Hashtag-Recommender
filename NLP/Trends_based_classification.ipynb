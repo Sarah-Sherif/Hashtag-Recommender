{
 "cells": [
  {
   "attachments": {},
   "cell_type": "markdown",
   "metadata": {},
   "source": [
    "# Trends-based recommendation\n",
    "In this notebook we will classify the tweets into trends and these trends will help us decide which hashtags to recommend "
   ]
  },
  {
   "cell_type": "code",
   "execution_count": null,
   "metadata": {},
   "outputs": [],
   "source": [
    "from files_reader import *\n",
    "import tensorflow as tf"
   ]
  },
  {
   "attachments": {},
   "cell_type": "markdown",
   "metadata": {},
   "source": [
    "## Get the data"
   ]
  },
  {
   "cell_type": "code",
   "execution_count": null,
   "metadata": {},
   "outputs": [],
   "source": [
    "tweets_and_trends = []\n",
    "tweets = []\n",
    "trends = []\n",
    "\n",
    "tweets_and_trends += (filesReader.read_file(UK_tweets_file))\n",
    "# tweets_and_trends += (filesReader.read_file(US_tweets_file))\n",
    "# tweets_and_trends += (filesReader.read_file(AUS_tweets_file))\n",
    "# tweets_and_trends += (filesReader.read_file(IR_tweets_file))\n",
    "# tweets_and_trends += (filesReader.read_file(CAN_tweets_file))\n",
    "\n",
    "random.shuffle(tweets_and_trends)\n",
    "\n",
    "tweets, trends = filesReader.split_tweets_and_trends(tweets_and_trends)\n",
    "print(f\"We have {len(tweets)} tweets.\")\n"
   ]
  },
  {
   "attachments": {},
   "cell_type": "markdown",
   "metadata": {},
   "source": [
    "## Tokenize the text"
   ]
  },
  {
   "cell_type": "code",
   "execution_count": null,
   "metadata": {},
   "outputs": [],
   "source": [
    "from keras.preprocessing.text import Tokenizer\n",
    "\n",
    "tweets_tokenizer = Tokenizer(oov_token=\"<OOV>\")\n",
    "tweets_tokenizer.fit_on_texts(tweets)\n",
    "tweets_word_index = tweets_tokenizer.word_index\n",
    "tweets_index_word = tweets_tokenizer.index_word\n",
    "\n",
    "print(f\"We have {len(tweets_word_index)} different word\")\n",
    "print(tweets_word_index)"
   ]
  },
  {
   "attachments": {},
   "cell_type": "markdown",
   "metadata": {},
   "source": [
    "## Create the padded sequences"
   ]
  },
  {
   "cell_type": "code",
   "execution_count": null,
   "metadata": {},
   "outputs": [],
   "source": [
    "from keras.utils import pad_sequences\n",
    "sequence_length = 20\n",
    "\n",
    "tweets_sequences = tweets_tokenizer.texts_to_sequences(tweets)\n",
    "tweets_sequences_padded = pad_sequences(tweets_sequences, padding=\"post\", maxlen=sequence_length)"
   ]
  },
  {
   "attachments": {},
   "cell_type": "markdown",
   "metadata": {},
   "source": [
    "## Map the trends to numbers"
   ]
  },
  {
   "cell_type": "code",
   "execution_count": null,
   "metadata": {},
   "outputs": [],
   "source": [
    "trends_map = {}\n",
    "\n",
    "counter = 0\n",
    "\n",
    "for trend in trends:\n",
    "    if not (trend in trends_map):\n",
    "        trends_map[trend] = counter\n",
    "        counter += 1\n",
    "\n",
    "no_of_trends = len(trends_map)\n",
    "inv_trends_map = {v: k for k, v in trends_map.items()}\n",
    "print(f\"We have {no_of_trends} different trends\")\n",
    "print(trends_map)"
   ]
  },
  {
   "attachments": {},
   "cell_type": "markdown",
   "metadata": {},
   "source": [
    "## Create the trends sequences"
   ]
  },
  {
   "cell_type": "code",
   "execution_count": null,
   "metadata": {},
   "outputs": [],
   "source": [
    "trends_sequences = [trends_map[trend] for trend in trends]\n",
    "print(trends_sequences)"
   ]
  },
  {
   "cell_type": "markdown",
   "metadata": {},
   "source": [
    "## Encode the trends"
   ]
  },
  {
   "cell_type": "code",
   "execution_count": null,
   "metadata": {},
   "outputs": [],
   "source": [
    "from keras.utils import to_categorical\n",
    "import tensorflow as tf\n",
    "\n",
    "encoded_trends = to_categorical(trends_sequences)\n",
    "print(encoded_trends.shape)"
   ]
  },
  {
   "attachments": {},
   "cell_type": "markdown",
   "metadata": {},
   "source": [
    "## Prepare the pre-trained embeddings"
   ]
  },
  {
   "cell_type": "code",
   "execution_count": null,
   "metadata": {},
   "outputs": [],
   "source": [
    "from Embeddings.embeddings_matrix import get_embeddings_matrix\n",
    "\n",
    "embeddings_index_path = \"./Embeddings/embeddings_index_object.pkl\"\n",
    "embeddings_matrix, hits, misses = get_embeddings_matrix(tweets_word_index, embeddings_index_path)\n",
    "\n",
    "print(f\"Hits: {hits}, Misses: {misses}\")"
   ]
  },
  {
   "attachments": {},
   "cell_type": "markdown",
   "metadata": {},
   "source": [
    "## Split the data"
   ]
  },
  {
   "cell_type": "code",
   "execution_count": null,
   "metadata": {},
   "outputs": [],
   "source": [
    "training_split = 0.8\n",
    "training_tweets_count = int(0.8 * len(tweets_sequences_padded))"
   ]
  },
  {
   "cell_type": "code",
   "execution_count": null,
   "metadata": {},
   "outputs": [],
   "source": [
    "train_data = tweets_sequences_padded[0:training_tweets_count]\n",
    "train_labels = encoded_trends[0:training_tweets_count]\n",
    "test_data = tweets_sequences_padded[training_tweets_count:]\n",
    "test_labels = encoded_trends[training_tweets_count:]\n",
    "\n",
    "print(f'we have {len(train_data)} tweets for training and {len(test_data)} for testing')"
   ]
  },
  {
   "attachments": {},
   "cell_type": "markdown",
   "metadata": {},
   "source": [
    "## Build the model"
   ]
  },
  {
   "cell_type": "code",
   "execution_count": null,
   "metadata": {},
   "outputs": [],
   "source": [
    "#hyperparameters\n",
    "embedding_dimensions = 300\n",
    "lstm_units = 128\n",
    "dropout_value = 0.2\n",
    "conv_filters = 64\n",
    "conv_kernel_size = 5\n",
    "dense_layers = 10000"
   ]
  },
  {
   "cell_type": "code",
   "execution_count": null,
   "metadata": {},
   "outputs": [],
   "source": [
    "from keras import initializers\n",
    "\n",
    "no_of_tweets_words = len(tweets_word_index) + 1\n",
    "\n",
    "hashtag_recommender = tf.keras.Sequential([\n",
    "    tf.keras.layers.Embedding(\n",
    "        no_of_tweets_words,\n",
    "        embedding_dimensions,\n",
    "        input_length=sequence_length,\n",
    "        embeddings_initializer=initializers.Constant(embeddings_matrix),\n",
    "        trainable=True\n",
    "    ),\n",
    "    # tf.keras.layers.Dropout(dropout_value),\n",
    "    tf.keras.layers.Bidirectional(tf.keras.layers.LSTM(lstm_units)),\n",
    "    tf.keras.layers.Dropout(dropout_value),\n",
    "    tf.keras.layers.Dense(no_of_trends, activation='softmax')\n",
    "])\n",
    "\n",
    "hashtag_recommender.compile(\n",
    "    loss=\"categorical_crossentropy\",\n",
    "    optimizer=\"adam\",\n",
    "    metrics=[\"accuracy\"]\n",
    ")\n",
    "\n",
    "hashtag_recommender.summary()"
   ]
  },
  {
   "cell_type": "code",
   "execution_count": null,
   "metadata": {},
   "outputs": [],
   "source": [
    "epochs = 20\n",
    "hashtag_recommender.fit(train_data, train_labels, epochs=epochs, validation_data=(test_data, test_labels))"
   ]
  },
  {
   "cell_type": "code",
   "execution_count": null,
   "metadata": {},
   "outputs": [],
   "source": [
    "import numpy as np\n",
    "\n",
    "def predict(tweet, tweet_tokenizer, trends_map, inv_trends_map, pad_length, model):\n",
    "    tweet_sequence = tweet_tokenizer.texts_to_sequences([tweet])[0]\n",
    "    padded_tweet_sequence = pad_sequences([tweet_sequence], maxlen=pad_length, padding='post')\n",
    "    prediction = (model.predict(padded_tweet_sequence))\n",
    "    trends_indices = np.argsort(prediction, axis=-1)[0][-3:]\n",
    "    return [inv_trends_map[trend_index] for trend_index in trends_indices]"
   ]
  },
  {
   "cell_type": "code",
   "execution_count": null,
   "metadata": {},
   "outputs": [],
   "source": [
    "tweet = \"this is so sad what happend to arsenal.\"\n",
    "\n",
    "print(predict(tweet, tweets_tokenizer, trends_map, inv_trends_map, sequence_length, hashtag_recommender))"
   ]
  },
  {
   "cell_type": "code",
   "execution_count": null,
   "metadata": {},
   "outputs": [],
   "source": []
  }
 ],
 "metadata": {
  "kernelspec": {
   "display_name": "base",
   "language": "python",
   "name": "python3"
  },
  "language_info": {
   "codemirror_mode": {
    "name": "ipython",
    "version": 3
   },
   "file_extension": ".py",
   "mimetype": "text/x-python",
   "name": "python",
   "nbconvert_exporter": "python",
   "pygments_lexer": "ipython3",
   "version": "3.10.9"
  },
  "orig_nbformat": 4
 },
 "nbformat": 4,
 "nbformat_minor": 2
}
