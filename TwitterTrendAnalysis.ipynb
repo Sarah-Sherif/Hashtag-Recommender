{
 "cells": [
  {
   "cell_type": "markdown",
   "source": [
    "# Twitter API Access\n",
    "\n",
    "In order to use it to make requests to Twitter's API, you'll need to go to https://dev.twitter.com/apps and create a sample application.\n",
    "\n",
    "Under **Key and Access Tokens**, there are four primary identifiers you'll need to note:\n",
    "* consumer key,\n",
    "* consumer secret,\n",
    "* access token, and\n",
    "* access token secret (Click on Create Access Token to create those).\n",
    "\n",
    "Note that you will need an ordinary Twitter account in order to login, create an app, and get these credentials."
   ],
   "metadata": {
    "collapsed": false
   }
  },
  {
   "cell_type": "code",
   "execution_count": null,
   "metadata": {
    "ExecuteTime": {
     "start_time": "2023-04-24T01:38:32.653761Z",
     "end_time": "2023-04-24T01:38:32.692130Z"
    }
   },
   "outputs": [],
   "source": [
    "#Libraries Needed\n",
    "import tweepy\n",
    "import pandas as pd\n",
    "import re\n",
    "import preprocessor as p\n",
    "import nltk\n",
    "import string\n",
    "import os\n",
    "from dotenv import load_dotenv\n",
    "nltk.download('stopwords')\n",
    "nltk.download('punkt')\n",
    "#A stop word is a commonly used word (such as “the”, “a”, “an”, “in”)\n",
    "stop_words = set(nltk.corpus.stopwords.words('english'))"
   ]
  },
  {
   "cell_type": "markdown",
   "source": [
    "## Authorizing an application to access Twitter account data"
   ],
   "metadata": {
    "collapsed": false
   }
  },
  {
   "cell_type": "code",
   "execution_count": 16,
   "metadata": {
    "ExecuteTime": {
     "start_time": "2023-04-24T01:38:32.672130Z",
     "end_time": "2023-04-24T01:38:32.738129Z"
    },
    "collapsed": false,
    "jupyter": {
     "outputs_hidden": false
    }
   },
   "outputs": [],
   "source": [
    "load_dotenv() # loads environment variables from .env file\n",
    "#Consumer_Key\n",
    "a_k = os.environ.get('TWITTER_API_KEY')\n",
    "\n",
    "#Consumer_Secret\n",
    "a_sk = os.environ.get('TWITTER_API_SECRET_KEY')\n",
    "\n",
    "#Access_Token\n",
    "a_t = os.environ.get('TWITTER_ACCESS_TOKEN')\n",
    "\n",
    "#Access_Token_Secret\n",
    "a_s = os.environ.get('TWITTER_ACCESS_TOKEN_SECRET')\n",
    "\n",
    "auth = tweepy.OAuthHandler(a_k, a_sk)\n",
    "auth.set_access_token(a_t, a_s)\n",
    "api = tweepy.API(auth , wait_on_rate_limit=True)"
   ]
  },
  {
   "cell_type": "markdown",
   "source": [
    "Creating the Ouput file and specifying the columns"
   ],
   "metadata": {
    "collapsed": false
   }
  },
  {
   "cell_type": "code",
   "execution_count": 17,
   "metadata": {
    "ExecuteTime": {
     "start_time": "2023-04-24T01:38:32.686128Z",
     "end_time": "2023-04-24T01:38:32.762128Z"
    },
    "collapsed": false,
    "jupyter": {
     "outputs_hidden": false
    }
   },
   "outputs": [],
   "source": [
    "tweetsFile = r\"Data\\UKTweets.csv\"\n",
    "\n",
    "#columns of the csv file\n",
    "COLS = ['id', 'created_at', 'source', 'original_text','clean_text','favorite_count',\n",
    "        'retweet_count', 'hashtags','trend']"
   ]
  },
  {
   "cell_type": "markdown",
   "source": [
    "Handling unwanted characters in the tweet"
   ],
   "metadata": {
    "collapsed": false
   }
  },
  {
   "cell_type": "code",
   "execution_count": 18,
   "metadata": {
    "ExecuteTime": {
     "start_time": "2023-04-24T01:38:32.706130Z",
     "end_time": "2023-04-24T01:38:32.774129Z"
    },
    "collapsed": false,
    "jupyter": {
     "outputs_hidden": false
    }
   },
   "outputs": [],
   "source": [
    "#handle emoticons and emojis\n",
    "\n",
    "happyEmoticons = {':-)', ':)', ';)', ':o)', ':]', ':3', ':c)', ':>', '=]', '8)', '=)', ':}', ':^)', ':-D', ':D', '8-D',\n",
    "                   '8D', 'x-D', 'xD', 'X-D', 'XD', '=-D', '=D', '=-3', '=3', ':-))', \":'-)\", \":')\", ':*', ':^*', '>:P',\n",
    "                   ':-P', ':P', 'X-P', 'x-p', 'xp', 'XP', ':-p', ':p', '=p', ':-b', ':b', '>:)', '>;)', '>:-)', '<3'}\n",
    "\n",
    "sadEmoticons = {':L', ':-/', '>:/', ':S', '>:[', ':@', ':-(', ':[', ':-||', '=L', ':<', ':-[', ':-<', '=\\\\', '=/',\n",
    "                 '>:(', ':(', '>.<', \":'-(\", \":'(\", ':\\\\', ':-c', ':c', ':{', '>:\\\\', ';('}\n",
    "\n",
    "emoticons = happyEmoticons.union(sadEmoticons)\n",
    "\n",
    "\n",
    "emojis = re.compile(\"[\"\n",
    "         u\"\\U0001F600-\\U0001F64F\"  # emoticons\n",
    "         u\"\\U0001F300-\\U0001F5FF\"  # symbols & pictographs\n",
    "         u\"\\U0001F680-\\U0001F6FF\"  # transport & map symbols\n",
    "         u\"\\U0001F1E0-\\U0001F1FF\"  # flags (iOS)\n",
    "         u\"\\U00002702-\\U000027B0\"\n",
    "         u\"\\U000024C2-\\U0001F251\"\n",
    "         \"]+\", flags=re.UNICODE)\n",
    "\n"
   ]
  },
  {
   "cell_type": "markdown",
   "source": [
    "# Further Cleaning for the Tweet"
   ],
   "metadata": {
    "collapsed": false
   }
  },
  {
   "cell_type": "code",
   "execution_count": 19,
   "metadata": {
    "ExecuteTime": {
     "start_time": "2023-04-24T01:38:32.720131Z",
     "end_time": "2023-04-24T01:38:32.774129Z"
    },
    "collapsed": false,
    "jupyter": {
     "outputs_hidden": false
    }
   },
   "outputs": [],
   "source": [
    "def clean_tweets(tweet):\n",
    "#after tweepy preprocessing the colon symbol still exists after removing mentions\n",
    "    tweet = re.sub(r':', '', tweet)\n",
    "#Unhandled symbols to be removed\n",
    "    tweet = re.sub(r'‚Ä¶', '', tweet)\n",
    "#replace consecutive non-ASCII characters with a space\n",
    "    tweet = re.sub(r'[^\\x00-\\x7F]+',' ', tweet)\n",
    "#remove emojis from tweet\n",
    "    tweet = emojis.sub(r'', tweet)\n",
    "#removing hashtag symbol\n",
    "    tweet = re.sub(\"#\" ,\"\" , tweet )\n",
    "#removing quotation marks\n",
    "    tweet = re.sub('[\\'\\\"]', '', tweet)\n",
    "    tweet = re.sub('[0-9]+','' , tweet)\n",
    "    word_tokens = nltk.word_tokenize(tweet)\n",
    "#filter using NLTK library append it to a string\n",
    "    filtered_tweet = [w for w in word_tokens if not w in stop_words \\\n",
    "                      and w not in emoticons and w not in string.punctuation]\n",
    "    #convert list to string , space separated.\n",
    "    return ' '.join(filtered_tweet)"
   ]
  },
  {
   "cell_type": "markdown",
   "source": [
    "## Retrieving Tweets and Saving the Output in the CSV File"
   ],
   "metadata": {
    "collapsed": false
   }
  },
  {
   "cell_type": "code",
   "execution_count": 20,
   "metadata": {
    "ExecuteTime": {
     "start_time": "2023-04-24T01:38:32.737129Z",
     "end_time": "2023-04-24T01:38:32.775129Z"
    },
    "collapsed": false,
    "jupyter": {
     "outputs_hidden": false
    }
   },
   "outputs": [],
   "source": [
    "def save_tweets(topic, file):\n",
    "    header = not os.path.exists(file)\n",
    "    df_final = pd.DataFrame(columns=COLS)\n",
    "    for tweet in tweepy.Cursor(api.search_tweets, q=topic, lang='en', count=1000).items(1000):\n",
    "        statuses = [tweet]\n",
    "        for status in statuses:\n",
    "            parsedData = []\n",
    "            p.set_options(p.OPT.URL , p.OPT.MENTION , p.OPT.RESERVED ,\n",
    "                           p.OPT.EMOJI , p.OPT.SMILEY , p.OPT.NUMBER)\n",
    "            clean_text = p.clean(status.text)\n",
    "            filtered_tweet = clean_tweets(clean_text)\n",
    "            parsedData += [status.id, status.created_at,\n",
    "              status.source, status.text, filtered_tweet,\n",
    "              status.favorite_count, status.retweet_count]\n",
    "            hashtags = \", \".join([hashtag_item['text'] for hashtag_item in status.entities['hashtags']])\n",
    "            if not len(hashtags):\n",
    "                continue # neglect tweets with no hashtags allocated\n",
    "            hashtags = re.sub('#','',hashtags)\n",
    "            topic = re.sub('#','',topic)\n",
    "            parsedData.append(hashtags) #append the hashtags\n",
    "            parsedData.append(topic) #append the trend allocated to each tweet\n",
    "            single_tweet_df = pd.DataFrame([parsedData], columns=COLS)\n",
    "            df_final = pd.concat([df_final, single_tweet_df], ignore_index=True)\n",
    "    df_final.drop_duplicates(subset=['clean_text'], inplace=True)\n",
    "    df_final.to_csv(file, columns=COLS, mode='a', index=False, header=header, encoding='utf-8')"
   ]
  },
  {
   "cell_type": "markdown",
   "source": [
    "## Getting Trending Topics according to the Place ID"
   ],
   "metadata": {
    "collapsed": false
   }
  },
  {
   "cell_type": "code",
   "execution_count": 21,
   "outputs": [],
   "source": [
    "def get_trends_and_tweets(place_id):\n",
    "    trends = api.get_place_trends(id = place_id)\n",
    "    #for i in range(25):\n",
    "        #save_tweets(trends[0]['trends'][i]['name'] , tweetsFile)\n",
    "    for value in trends:\n",
    "        for trend in value['trends']:\n",
    "            save_tweets(trend['name'] , tweetsFile)"
   ],
   "metadata": {
    "collapsed": false,
    "ExecuteTime": {
     "start_time": "2023-04-24T01:38:32.749128Z",
     "end_time": "2023-04-24T01:38:32.799127Z"
    }
   }
  },
  {
   "cell_type": "markdown",
   "source": [
    "Twitter identifies locations using the Yahoo! Where On Earth ID.\n"
   ],
   "metadata": {
    "collapsed": false
   }
  },
  {
   "cell_type": "code",
   "execution_count": null,
   "metadata": {
    "ExecuteTime": {
     "start_time": "2023-04-24T01:38:32.767130Z",
     "end_time": "2023-04-24T01:54:42.124823Z"
    },
    "collapsed": false,
    "jupyter": {
     "outputs_hidden": false
    },
    "tags": []
   },
   "outputs": [],
   "source": [
    "US_WOE_ID = 23424977\n",
    "UK_WOE_ID = 23424975\n",
    "Canada_WOE_ID = 23424775\n",
    "AUS_WOE_ID = 23424748\n",
    "IR_WOE_ID = 23424803\n",
    "#get_trends_and_tweets(US_WOE_ID)\n",
    "get_trends_and_tweets(UK_WOE_ID)\n",
    "#get_trends_and_tweets(Canada_WOE_ID)\n",
    "#get_trends_and_tweets(AUS_WOE_ID)\n",
    "#get_trends_and_tweets(IR_WOE_ID)"
   ]
  }
 ],
 "metadata": {
  "kernelspec": {
   "display_name": "Python 3 (ipykernel)",
   "language": "python",
   "name": "python3"
  },
  "language_info": {
   "codemirror_mode": {
    "name": "ipython",
    "version": 3
   },
   "file_extension": ".py",
   "mimetype": "text/x-python",
   "name": "python",
   "nbconvert_exporter": "python",
   "pygments_lexer": "ipython3",
   "version": "3.10.7"
  }
 },
 "nbformat": 4,
 "nbformat_minor": 4
}
